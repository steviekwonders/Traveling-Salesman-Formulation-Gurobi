{
 "cells": [
  {
   "cell_type": "markdown",
   "metadata": {},
   "source": [
    "This section will look to solve the Traveling Salesman Problem through the Miller-Tucker-Zemlin formulation. "
   ]
  },
  {
   "cell_type": "code",
   "execution_count": 5,
   "metadata": {},
   "outputs": [],
   "source": [
    "# Import packages\n",
    "from gurobipy import *\n",
    "import pandas as pd\n",
    "import numpy as np\n",
    "import math\n",
    "from itertools import combinations,product"
   ]
  },
  {
   "cell_type": "code",
   "execution_count": 6,
   "metadata": {},
   "outputs": [],
   "source": [
    "# Function will convert our datfile of x,y coordinates into dataframe: vertices\n",
    "def TSP_vertices(file_name):\n",
    "    data  = open(file_name, 'r')\n",
    "    lines = data.readlines()[1:]\n",
    "    x = []\n",
    "    y = []\n",
    "    for line in lines:\n",
    "        p = line.split()\n",
    "        x.append(float(p[0]))\n",
    "        y.append(float(p[1]))\n",
    "    data.close()\n",
    "    # Transform into dataframe\n",
    "    vertices = pd.DataFrame({'x':x, 'y':y})\n",
    "    \n",
    "    return vertices"
   ]
  },
  {
   "cell_type": "code",
   "execution_count": 7,
   "metadata": {},
   "outputs": [],
   "source": [
    "# Will convert Euclidean distance for our coordinates as cost components for model\n",
    "def euclideanDistMatrix(TSP):\n",
    "    euclidean_cost = []\n",
    "    for i in range(len(TSP)):\n",
    "        row_distances = []\n",
    "        for j in range(len(TSP)):\n",
    "            row_distances.append(math.sqrt( (TSP['x'][i]-TSP['x'][j])**2 + (TSP['y'][i]-TSP['y'][j])**2 ))\n",
    "        euclidean_cost.append(row_distances)\n",
    "    return euclidean_cost "
   ]
  },
  {
   "cell_type": "code",
   "execution_count": 8,
   "metadata": {
    "scrolled": true
   },
   "outputs": [],
   "source": [
    "def Miller_Tucker_Zemlin(file_name):\n",
    "\n",
    "    # Turn .dat file into a cost matrix with all costs associated from traversing from i to j\n",
    "    verticesDF = TSP_vertices(file_name)\n",
    "    cost = euclideanDistMatrix(verticesDF)\n",
    "\n",
    "    # Create a list V containing all vertices. Note: numbered 0 through n-1\n",
    "    V = []\n",
    "    for i in range(len(verticesDF)):\n",
    "        V.append(i)\n",
    "    \n",
    "    # Create a list A of all tuples of arc (i,j) and U as indexes for variable u\n",
    "    A = [(i, j) for i in V for j in V if i != j]\n",
    "    U = [i for i in range(1, len(V))]\n",
    "\n",
    "    # Instantiate the Model\n",
    "    model = Model('MTZ')\n",
    "    model.ModelSense = GRB.MINIMIZE\n",
    "\n",
    "    # Instantiate the decision variable\n",
    "    x = model.addVars(A, vtype = GRB.BINARY, name='e')\n",
    "    u = model.addVars(U, lb = 0, vtype = GRB.CONTINUOUS, name='u')\n",
    "\n",
    "    # Objective Function\n",
    "    model.modelSense = GRB.MINIMIZE\n",
    "    model.setObjective(quicksum(x[i,j]*cost[i][j] for i, j in A))\n",
    "\n",
    "    # Constraint 1: one enters i\n",
    "    model.addConstrs(quicksum(x[i,j] for j in V if i != j) == 1 for i in V)\n",
    "    # Constraint 2: one exits i\n",
    "    model.addConstrs(quicksum(x[j,i] for j in V if i != j) == 1 for i in V)\n",
    "    # Constraint 3: \n",
    "    model.addConstrs(u[i] - u[j] + len(V)*x[i,j] <= len(V)-1 for i in V[1:] for j in V[1:] if i != j)\n",
    "    # Solve the model. \n",
    "    model.Params.TimeLimit = 600\n",
    "    model.optimize()\n",
    "    print('The runtime was', model.Runtime, 'seconds.')\n",
    "\n",
    "    ### UNCOMMENT LINE BELOW if you want to save a file of the formulation. Open with Microsoft Word.\n",
    "    #model.write('MTZ.lp')\n",
    "\n",
    "    # Print out postive decision varialbes\n",
    "    #for v in model.getVars():\n",
    "     #   if v.x > 0:\n",
    "      #      print(v)\n",
    "            \n",
    "    return model"
   ]
  },
  {
   "cell_type": "code",
   "execution_count": 9,
   "metadata": {},
   "outputs": [],
   "source": [
    "def Miller_Tucker_Zemlin_LR(file_name):\n",
    "\n",
    "    # Turn .dat file into a cost matrix with all costs associated from traversing from i to j\n",
    "    verticesDF = TSP_vertices(file_name)\n",
    "    cost = euclideanDistMatrix(verticesDF)\n",
    "\n",
    "    # Create a list V containing all vertices. Note: numbered 0 through n-1\n",
    "    V = []\n",
    "    for i in range(len(verticesDF)):\n",
    "        V.append(i)\n",
    "    \n",
    "    # Create a list A of all tuples of arc (i,j) and U as indexes for variable u\n",
    "    A = [(i, j) for i in V for j in V if i != j]\n",
    "    U = [i for i in range(1, len(V))]\n",
    "\n",
    "    # Instantiate the Model\n",
    "    model = Model('MTZ')\n",
    "\n",
    "    # Instantiate the decision variables. Do a linear relaxation on our variable x representing the arcs between 0 and 1. \n",
    "    x = model.addVars(A, lb = 0, ub = 1, vtype = GRB.CONTINUOUS, name='e')\n",
    "    u = model.addVars(U, lb = 0, vtype = GRB.CONTINUOUS, name='u')\n",
    "\n",
    "    # Objective Function\n",
    "    model.modelSense = GRB.MINIMIZE\n",
    "    model.setObjective(quicksum(x[i,j]*cost[i][j] for i, j in A))\n",
    "\n",
    "    # Constraint 1: one enters i\n",
    "    model.addConstrs(quicksum(x[i,j] for j in V if i != j) == 1 for i in V)\n",
    "    # Constraint 2: one exits i\n",
    "    model.addConstrs(quicksum(x[j,i] for j in V if i != j) == 1 for i in V)\n",
    "    # Constraint 3: \n",
    "    model.addConstrs(u[i] - u[j] + len(V)*x[i,j] <= len(V)-1 for i in V[1:] for j in V[1:] if i != j)\n",
    "    # Solve the model. \n",
    "    model.Params.TimeLimit = 600\n",
    "    model.optimize()\n",
    "    print('The runtime was', model.Runtime, 'seconds.')\n",
    "\n",
    "    ### UNCOMMENT LINE BELOW if you want to save a file of the formulation. Open with Microsoft Word.\n",
    "    # model.write('MTZ.lp')\n",
    "\n",
    "    # Print out postive decision varialbes\n",
    "    #for v in model.getVars():\n",
    "     #   if v.x > 0:\n",
    "      #      print(v)\n",
    "            \n",
    "    return model"
   ]
  },
  {
   "cell_type": "markdown",
   "metadata": {},
   "source": [
    "The following are the Miller-Tucker-Zemlin formulation integer and Linear Relaxation solutions for two instances of size 15."
   ]
  },
  {
   "cell_type": "code",
   "execution_count": 10,
   "metadata": {},
   "outputs": [
    {
     "name": "stdout",
     "output_type": "stream",
     "text": [
      "Using license file /Users/student/gurobi.lic\n",
      "Academic license - for non-commercial use only\n",
      "Changed value of parameter TimeLimit to 600.0\n",
      "   Prev: inf  Min: 0.0  Max: inf  Default: inf\n",
      "Gurobi Optimizer version 9.0.3 build v9.0.3rc0 (mac64)\n",
      "Optimize a model with 212 rows, 224 columns and 966 nonzeros\n",
      "Model fingerprint: 0xd50ba5d6\n",
      "Variable types: 14 continuous, 210 integer (210 binary)\n",
      "Coefficient statistics:\n",
      "  Matrix range     [1e+00, 2e+01]\n",
      "  Objective range  [2e+00, 2e+01]\n",
      "  Bounds range     [1e+00, 1e+00]\n",
      "  RHS range        [1e+00, 1e+01]\n",
      "Presolve time: 0.01s\n",
      "Presolved: 212 rows, 224 columns, 966 nonzeros\n",
      "Variable types: 14 continuous, 210 integer (210 binary)\n",
      "\n",
      "Root relaxation: objective 5.567906e+01, 39 iterations, 0.00 seconds\n",
      "\n",
      "    Nodes    |    Current Node    |     Objective Bounds      |     Work\n",
      " Expl Unexpl |  Obj  Depth IntInf | Incumbent    BestBd   Gap | It/Node Time\n",
      "\n",
      "     0     0   55.67906    0   23          -   55.67906      -     -    0s\n",
      "H    0     0                      90.8163258   55.67906  38.7%     -    0s\n",
      "     0     0   59.73299    0   29   90.81633   59.73299  34.2%     -    0s\n",
      "     0     0   60.36007    0   33   90.81633   60.36007  33.5%     -    0s\n",
      "     0     0   60.36007    0   31   90.81633   60.36007  33.5%     -    0s\n",
      "     0     0   61.04938    0   26   90.81633   61.04938  32.8%     -    0s\n",
      "     0     0   61.04938    0   26   90.81633   61.04938  32.8%     -    0s\n",
      "     0     0   61.04938    0   26   90.81633   61.04938  32.8%     -    0s\n",
      "     0     0   61.04938    0   26   90.81633   61.04938  32.8%     -    0s\n",
      "     0     0   61.04938    0   26   90.81633   61.04938  32.8%     -    0s\n",
      "     0     2   61.38655    0   26   90.81633   61.38655  32.4%     -    0s\n",
      "*   86    88              40      83.3056647   61.65734  26.0%   4.6    0s\n",
      "*  111   116              10      69.2202055   61.80135  10.7%   4.5    0s\n",
      "*  177   107               6      67.8473866   62.44938  7.96%   4.9    0s\n",
      "*  200    93               8      67.1662654   62.78733  6.52%   5.3    0s\n",
      "*  205    93               9      66.7516901   62.78733  5.94%   5.4    0s\n",
      "*  225    93               5      65.1316120   63.21609  2.94%   5.6    0s\n",
      "\n",
      "Cutting planes:\n",
      "  Learned: 5\n",
      "  Gomory: 2\n",
      "  MIR: 21\n",
      "\n",
      "Explored 285 nodes (1573 simplex iterations) in 0.29 seconds\n",
      "Thread count was 4 (of 4 available processors)\n",
      "\n",
      "Solution count 7: 65.1316 66.7517 67.1663 ... 90.8163\n",
      "\n",
      "Optimal solution found (tolerance 1.00e-04)\n",
      "Best objective 6.513161197361e+01, best bound 6.513161197361e+01, gap 0.0000%\n",
      "The runtime was 0.30290794372558594 seconds.\n"
     ]
    },
    {
     "data": {
      "text/plain": [
       "<gurobi.Model MIP instance MTZ: 212 constrs, 224 vars, Parameter changes: TimeLimit=600.0>"
      ]
     },
     "execution_count": 10,
     "metadata": {},
     "output_type": "execute_result"
    }
   ],
   "source": [
    "Miller_Tucker_Zemlin('TSP_instance_n_15_s_1.dat')"
   ]
  },
  {
   "cell_type": "code",
   "execution_count": 11,
   "metadata": {},
   "outputs": [
    {
     "name": "stdout",
     "output_type": "stream",
     "text": [
      "Changed value of parameter TimeLimit to 600.0\n",
      "   Prev: inf  Min: 0.0  Max: inf  Default: inf\n",
      "Gurobi Optimizer version 9.0.3 build v9.0.3rc0 (mac64)\n",
      "Optimize a model with 212 rows, 224 columns and 966 nonzeros\n",
      "Model fingerprint: 0xfede2098\n",
      "Coefficient statistics:\n",
      "  Matrix range     [1e+00, 2e+01]\n",
      "  Objective range  [2e+00, 2e+01]\n",
      "  Bounds range     [1e+00, 1e+00]\n",
      "  RHS range        [1e+00, 1e+01]\n",
      "Presolve removed 1 rows and 0 columns\n",
      "Presolve time: 0.01s\n",
      "Presolved: 211 rows, 224 columns, 952 nonzeros\n",
      "\n",
      "Iteration    Objective       Primal Inf.    Dual Inf.      Time\n",
      "       0    4.1738894e+01   1.568750e+01   0.000000e+00      0s\n",
      "      33    5.5679061e+01   0.000000e+00   0.000000e+00      0s\n",
      "\n",
      "Solved in 33 iterations and 0.03 seconds\n",
      "Optimal objective  5.567906100e+01\n",
      "The runtime was 0.0357820987701416 seconds.\n"
     ]
    },
    {
     "data": {
      "text/plain": [
       "<gurobi.Model Continuous instance MTZ: 212 constrs, 224 vars, Parameter changes: TimeLimit=600.0>"
      ]
     },
     "execution_count": 11,
     "metadata": {},
     "output_type": "execute_result"
    }
   ],
   "source": [
    "Miller_Tucker_Zemlin_LR('TSP_instance_n_15_s_1.dat')"
   ]
  },
  {
   "cell_type": "code",
   "execution_count": 12,
   "metadata": {},
   "outputs": [
    {
     "name": "stdout",
     "output_type": "stream",
     "text": [
      "Changed value of parameter TimeLimit to 600.0\n",
      "   Prev: inf  Min: 0.0  Max: inf  Default: inf\n",
      "Gurobi Optimizer version 9.0.3 build v9.0.3rc0 (mac64)\n",
      "Optimize a model with 212 rows, 224 columns and 966 nonzeros\n",
      "Model fingerprint: 0xdbe108c9\n",
      "Variable types: 14 continuous, 210 integer (210 binary)\n",
      "Coefficient statistics:\n",
      "  Matrix range     [1e+00, 2e+01]\n",
      "  Objective range  [8e-01, 2e+01]\n",
      "  Bounds range     [1e+00, 1e+00]\n",
      "  RHS range        [1e+00, 1e+01]\n",
      "Presolve time: 0.01s\n",
      "Presolved: 212 rows, 224 columns, 966 nonzeros\n",
      "Variable types: 14 continuous, 210 integer (210 binary)\n",
      "\n",
      "Root relaxation: objective 5.145035e+01, 36 iterations, 0.00 seconds\n",
      "\n",
      "    Nodes    |    Current Node    |     Objective Bounds      |     Work\n",
      " Expl Unexpl |  Obj  Depth IntInf | Incumbent    BestBd   Gap | It/Node Time\n",
      "\n",
      "     0     0   51.45035    0   22          -   51.45035      -     -    0s\n",
      "H    0     0                     133.2333128   51.45035  61.4%     -    0s\n",
      "     0     0   51.98715    0   22  133.23331   51.98715  61.0%     -    0s\n",
      "     0     0   53.68637    0   26  133.23331   53.68637  59.7%     -    0s\n",
      "     0     0   53.68637    0   26  133.23331   53.68637  59.7%     -    0s\n",
      "     0     0   53.68637    0   26  133.23331   53.68637  59.7%     -    0s\n",
      "H    0     0                     132.5201900   53.68637  59.5%     -    0s\n",
      "     0     0   53.86949    0   30  132.52019   53.86949  59.3%     -    0s\n",
      "     0     0   53.86949    0   30  132.52019   53.86949  59.3%     -    0s\n",
      "     0     0   54.03308    0   33  132.52019   54.03308  59.2%     -    0s\n",
      "     0     0   54.03308    0   33  132.52019   54.03308  59.2%     -    0s\n",
      "     0     0   54.92280    0   29  132.52019   54.92280  58.6%     -    0s\n",
      "     0     0   54.92280    0   29  132.52019   54.92280  58.6%     -    0s\n",
      "     0     0   55.54453    0   31  132.52019   55.54453  58.1%     -    0s\n",
      "     0     0   55.62266    0   29  132.52019   55.62266  58.0%     -    0s\n",
      "     0     0   55.97517    0   30  132.52019   55.97517  57.8%     -    0s\n",
      "     0     0   56.24595    0   32  132.52019   56.24595  57.6%     -    0s\n",
      "     0     0   56.68276    0   32  132.52019   56.68276  57.2%     -    0s\n",
      "     0     0   56.68276    0   32  132.52019   56.68276  57.2%     -    0s\n",
      "     0     0   56.68276    0   32  132.52019   56.68276  57.2%     -    0s\n",
      "     0     0   56.68276    0   28  132.52019   56.68276  57.2%     -    0s\n",
      "     0     0   56.68276    0   28  132.52019   56.68276  57.2%     -    0s\n",
      "     0     0   56.68276    0   28  132.52019   56.68276  57.2%     -    0s\n",
      "     0     2   56.68276    0   28  132.52019   56.68276  57.2%     -    0s\n",
      "H   89    89                     110.1392329   57.73726  47.6%   5.3    0s\n",
      "*  111   103              49      95.6716800   57.73726  39.7%   5.3    0s\n",
      "*  167   147              39      84.2195169   57.96664  31.2%   5.0    0s\n",
      "*  442   312              22      79.6996742   59.52298  25.3%   5.5    0s\n",
      "*  527   326              18      77.7844437   59.65266  23.3%   5.7    0s\n",
      "*  597   306              17      76.4590035   60.23772  21.2%   5.7    0s\n",
      "*  637   336              19      75.0545527   60.24271  19.7%   5.7    0s\n",
      "*  676   319              19      73.7177298   60.24271  18.3%   5.7    0s\n",
      "* 1245   374              58      73.7124865   64.71740  12.2%   6.4    1s\n",
      "* 1809   387              56      71.8241704   65.68648  8.55%   6.7    1s\n",
      "\n",
      "Cutting planes:\n",
      "  Learned: 9\n",
      "  Gomory: 7\n",
      "  MIR: 4\n",
      "  Flow cover: 23\n",
      "  Inf proof: 1\n",
      "  Zero half: 1\n",
      "\n",
      "Explored 4284 nodes (27894 simplex iterations) in 1.80 seconds\n",
      "Thread count was 4 (of 4 available processors)\n",
      "\n",
      "Solution count 10: 71.8242 73.7125 73.7177 ... 110.139\n",
      "\n",
      "Optimal solution found (tolerance 1.00e-04)\n",
      "Best objective 7.182417038505e+01, best bound 7.182417038505e+01, gap 0.0000%\n",
      "The runtime was 1.8497421741485596 seconds.\n"
     ]
    },
    {
     "data": {
      "text/plain": [
       "<gurobi.Model MIP instance MTZ: 212 constrs, 224 vars, Parameter changes: TimeLimit=600.0>"
      ]
     },
     "execution_count": 12,
     "metadata": {},
     "output_type": "execute_result"
    }
   ],
   "source": [
    "Miller_Tucker_Zemlin('TSP_instance_n_15_s_2.dat')"
   ]
  },
  {
   "cell_type": "code",
   "execution_count": 13,
   "metadata": {},
   "outputs": [
    {
     "name": "stdout",
     "output_type": "stream",
     "text": [
      "Changed value of parameter TimeLimit to 600.0\n",
      "   Prev: inf  Min: 0.0  Max: inf  Default: inf\n",
      "Gurobi Optimizer version 9.0.3 build v9.0.3rc0 (mac64)\n",
      "Optimize a model with 212 rows, 224 columns and 966 nonzeros\n",
      "Model fingerprint: 0xfc3e0b09\n",
      "Coefficient statistics:\n",
      "  Matrix range     [1e+00, 2e+01]\n",
      "  Objective range  [8e-01, 2e+01]\n",
      "  Bounds range     [1e+00, 1e+00]\n",
      "  RHS range        [1e+00, 1e+01]\n",
      "Presolve removed 1 rows and 0 columns\n",
      "Presolve time: 0.01s\n",
      "Presolved: 211 rows, 224 columns, 952 nonzeros\n",
      "\n",
      "Iteration    Objective       Primal Inf.    Dual Inf.      Time\n",
      "       0    3.5739812e+01   9.750000e+00   0.000000e+00      0s\n",
      "      31    5.1450354e+01   0.000000e+00   0.000000e+00      0s\n",
      "\n",
      "Solved in 31 iterations and 0.03 seconds\n",
      "Optimal objective  5.145035362e+01\n",
      "The runtime was 0.03203606605529785 seconds.\n"
     ]
    },
    {
     "data": {
      "text/plain": [
       "<gurobi.Model Continuous instance MTZ: 212 constrs, 224 vars, Parameter changes: TimeLimit=600.0>"
      ]
     },
     "execution_count": 13,
     "metadata": {},
     "output_type": "execute_result"
    }
   ],
   "source": [
    "Miller_Tucker_Zemlin_LR('TSP_instance_n_15_s_2.dat')"
   ]
  },
  {
   "cell_type": "markdown",
   "metadata": {},
   "source": [
    "The following are the Miller-Tucker-Zemlin formulation integer and Linear Relaxation solutions for two instances of size 20."
   ]
  },
  {
   "cell_type": "code",
   "execution_count": 14,
   "metadata": {},
   "outputs": [
    {
     "name": "stdout",
     "output_type": "stream",
     "text": [
      "Changed value of parameter TimeLimit to 600.0\n",
      "   Prev: inf  Min: 0.0  Max: inf  Default: inf\n",
      "Gurobi Optimizer version 9.0.3 build v9.0.3rc0 (mac64)\n",
      "Optimize a model with 382 rows, 399 columns and 1786 nonzeros\n",
      "Model fingerprint: 0xd71c23ac\n",
      "Variable types: 19 continuous, 380 integer (380 binary)\n",
      "Coefficient statistics:\n",
      "  Matrix range     [1e+00, 2e+01]\n",
      "  Objective range  [4e-01, 2e+01]\n",
      "  Bounds range     [1e+00, 1e+00]\n",
      "  RHS range        [1e+00, 2e+01]\n",
      "Presolve time: 0.01s\n",
      "Presolved: 382 rows, 399 columns, 1786 nonzeros\n",
      "Variable types: 19 continuous, 380 integer (380 binary)\n",
      "\n",
      "Root relaxation: objective 4.725842e+01, 65 iterations, 0.00 seconds\n",
      "\n",
      "    Nodes    |    Current Node    |     Objective Bounds      |     Work\n",
      " Expl Unexpl |  Obj  Depth IntInf | Incumbent    BestBd   Gap | It/Node Time\n",
      "\n",
      "     0     0   47.25842    0   24          -   47.25842      -     -    0s\n",
      "     0     0   59.08305    0   40          -   59.08305      -     -    0s\n",
      "     0     0   59.08305    0   40          -   59.08305      -     -    0s\n",
      "     0     0   59.08305    0   40          -   59.08305      -     -    0s\n",
      "     0     0   59.08305    0   32          -   59.08305      -     -    0s\n",
      "     0     0   59.08305    0   32          -   59.08305      -     -    0s\n",
      "     0     0   59.16449    0   40          -   59.16449      -     -    0s\n",
      "     0     0   59.16449    0   40          -   59.16449      -     -    0s\n",
      "     0     0   59.16449    0   40          -   59.16449      -     -    0s\n",
      "     0     0   59.16449    0   40          -   59.16449      -     -    0s\n",
      "     0     0   59.16449    0   40          -   59.16449      -     -    0s\n",
      "     0     0   59.16449    0   40          -   59.16449      -     -    0s\n",
      "H    0     0                     201.2411696   59.16449  70.6%     -    0s\n",
      "H    0     0                      85.7833083   59.16449  31.0%     -    0s\n",
      "     0     2   59.16449    0   40   85.78331   59.16449  31.0%     -    0s\n",
      "*  174   176              39      85.3520731   62.08499  27.3%   5.3    0s\n",
      "*  368   220              26      72.7810004   62.28956  14.4%   4.6    0s\n",
      "H  830   427                      72.7532456   63.49361  12.7%   6.1    1s\n",
      "H  833   406                      70.1887934   63.49361  9.54%   6.1    1s\n",
      "*  879   397              27      70.1811066   63.49361  9.53%   6.3    1s\n",
      "* 1014   429              18      68.4909352   63.52626  7.25%   6.5    1s\n",
      "* 1418   384              22      68.4429652   64.01126  6.48%   7.2    1s\n",
      "* 1420   367              20      68.3774979   64.01126  6.39%   7.2    1s\n",
      "\n",
      "Cutting planes:\n",
      "  Learned: 10\n",
      "  Gomory: 22\n",
      "  MIR: 21\n",
      "  Flow cover: 22\n",
      "  Inf proof: 9\n",
      "  Zero half: 8\n",
      "\n",
      "Explored 2808 nodes (25554 simplex iterations) in 1.76 seconds\n",
      "Thread count was 4 (of 4 available processors)\n",
      "\n",
      "Solution count 10: 68.3775 68.443 68.4909 ... 201.241\n",
      "\n",
      "Optimal solution found (tolerance 1.00e-04)\n",
      "Best objective 6.837749786793e+01, best bound 6.837749786793e+01, gap 0.0000%\n",
      "The runtime was 1.7922570705413818 seconds.\n"
     ]
    },
    {
     "data": {
      "text/plain": [
       "<gurobi.Model MIP instance MTZ: 382 constrs, 399 vars, Parameter changes: TimeLimit=600.0>"
      ]
     },
     "execution_count": 14,
     "metadata": {},
     "output_type": "execute_result"
    }
   ],
   "source": [
    "Miller_Tucker_Zemlin('TSP_instance_n_20_s_1.dat')"
   ]
  },
  {
   "cell_type": "code",
   "execution_count": 15,
   "metadata": {},
   "outputs": [
    {
     "name": "stdout",
     "output_type": "stream",
     "text": [
      "Changed value of parameter TimeLimit to 600.0\n",
      "   Prev: inf  Min: 0.0  Max: inf  Default: inf\n",
      "Gurobi Optimizer version 9.0.3 build v9.0.3rc0 (mac64)\n",
      "Optimize a model with 382 rows, 399 columns and 1786 nonzeros\n",
      "Model fingerprint: 0x96bf8cc1\n",
      "Coefficient statistics:\n",
      "  Matrix range     [1e+00, 2e+01]\n",
      "  Objective range  [4e-01, 2e+01]\n",
      "  Bounds range     [1e+00, 1e+00]\n",
      "  RHS range        [1e+00, 2e+01]\n",
      "Presolve removed 1 rows and 0 columns\n",
      "Presolve time: 0.02s\n",
      "Presolved: 381 rows, 399 columns, 1767 nonzeros\n",
      "\n",
      "Iteration    Objective       Primal Inf.    Dual Inf.      Time\n",
      "       0    3.8979196e+01   1.700000e+01   0.000000e+00      0s\n",
      "      66    4.7258423e+01   0.000000e+00   0.000000e+00      0s\n",
      "\n",
      "Solved in 66 iterations and 0.03 seconds\n",
      "Optimal objective  4.725842260e+01\n",
      "The runtime was 0.03602004051208496 seconds.\n"
     ]
    },
    {
     "data": {
      "text/plain": [
       "<gurobi.Model Continuous instance MTZ: 382 constrs, 399 vars, Parameter changes: TimeLimit=600.0>"
      ]
     },
     "execution_count": 15,
     "metadata": {},
     "output_type": "execute_result"
    }
   ],
   "source": [
    "Miller_Tucker_Zemlin_LR('TSP_instance_n_20_s_1.dat')"
   ]
  },
  {
   "cell_type": "code",
   "execution_count": 16,
   "metadata": {},
   "outputs": [
    {
     "name": "stdout",
     "output_type": "stream",
     "text": [
      "Changed value of parameter TimeLimit to 600.0\n",
      "   Prev: inf  Min: 0.0  Max: inf  Default: inf\n",
      "Gurobi Optimizer version 9.0.3 build v9.0.3rc0 (mac64)\n",
      "Optimize a model with 382 rows, 399 columns and 1786 nonzeros\n",
      "Model fingerprint: 0xe88fc0b6\n",
      "Variable types: 19 continuous, 380 integer (380 binary)\n",
      "Coefficient statistics:\n",
      "  Matrix range     [1e+00, 2e+01]\n",
      "  Objective range  [6e-01, 2e+01]\n",
      "  Bounds range     [1e+00, 1e+00]\n",
      "  RHS range        [1e+00, 2e+01]\n",
      "Presolve time: 0.01s\n",
      "Presolved: 382 rows, 399 columns, 1786 nonzeros\n",
      "Variable types: 19 continuous, 380 integer (380 binary)\n",
      "\n",
      "Root relaxation: objective 6.123296e+01, 59 iterations, 0.00 seconds\n",
      "\n",
      "    Nodes    |    Current Node    |     Objective Bounds      |     Work\n",
      " Expl Unexpl |  Obj  Depth IntInf | Incumbent    BestBd   Gap | It/Node Time\n",
      "\n",
      "     0     0   61.23296    0   34          -   61.23296      -     -    0s\n",
      "     0     0   65.99023    0   43          -   65.99023      -     -    0s\n",
      "     0     0   68.77515    0   36          -   68.77515      -     -    0s\n",
      "     0     0   68.77515    0   36          -   68.77515      -     -    0s\n",
      "     0     0   68.77515    0   36          -   68.77515      -     -    0s\n",
      "     0     0   68.77515    0   36          -   68.77515      -     -    0s\n",
      "     0     0   68.77515    0   36          -   68.77515      -     -    0s\n",
      "H    0     0                     259.9327604   68.77515  73.5%     -    0s\n",
      "H    0     0                     230.4541776   68.77515  70.2%     -    0s\n",
      "     0     2   68.77515    0   36  230.45418   68.77515  70.2%     -    0s\n",
      "H  139   155                     104.3610262   68.84829  34.0%   4.4    0s\n",
      "*  201   188              94     102.3945221   68.90933  32.7%   4.4    0s\n",
      "H  211   146                      90.5191573   69.19621  23.6%   4.4    0s\n",
      "*  385   276              49      90.0141770   69.39224  22.9%   4.6    0s\n",
      "*  514   335              76      83.7848945   69.39224  17.2%   4.4    0s\n",
      "H  779   376                      81.4215547   69.65333  14.5%   4.8    0s\n",
      "* 1142   482              40      79.2197516   69.71354  12.0%   5.9    1s\n",
      "* 1514   389              26      77.8479492   71.02848  8.76%   6.5    1s\n",
      "\n",
      "Cutting planes:\n",
      "  Learned: 9\n",
      "  Gomory: 8\n",
      "  Cover: 10\n",
      "  MIR: 14\n",
      "  Flow cover: 36\n",
      "  Inf proof: 3\n",
      "\n",
      "Explored 3018 nodes (22862 simplex iterations) in 1.60 seconds\n",
      "Thread count was 4 (of 4 available processors)\n",
      "\n",
      "Solution count 10: 77.8479 79.2198 81.4216 ... 259.933\n",
      "\n",
      "Optimal solution found (tolerance 1.00e-04)\n",
      "Best objective 7.784794916662e+01, best bound 7.784794916662e+01, gap 0.0000%\n",
      "The runtime was 1.6475679874420166 seconds.\n"
     ]
    },
    {
     "data": {
      "text/plain": [
       "<gurobi.Model MIP instance MTZ: 382 constrs, 399 vars, Parameter changes: TimeLimit=600.0>"
      ]
     },
     "execution_count": 16,
     "metadata": {},
     "output_type": "execute_result"
    }
   ],
   "source": [
    "Miller_Tucker_Zemlin('TSP_instance_n_20_s_2.dat')"
   ]
  },
  {
   "cell_type": "code",
   "execution_count": 17,
   "metadata": {},
   "outputs": [
    {
     "name": "stdout",
     "output_type": "stream",
     "text": [
      "Changed value of parameter TimeLimit to 600.0\n",
      "   Prev: inf  Min: 0.0  Max: inf  Default: inf\n",
      "Gurobi Optimizer version 9.0.3 build v9.0.3rc0 (mac64)\n",
      "Optimize a model with 382 rows, 399 columns and 1786 nonzeros\n",
      "Model fingerprint: 0x188e429c\n",
      "Coefficient statistics:\n",
      "  Matrix range     [1e+00, 2e+01]\n",
      "  Objective range  [6e-01, 2e+01]\n",
      "  Bounds range     [1e+00, 1e+00]\n",
      "  RHS range        [1e+00, 2e+01]\n",
      "Presolve removed 1 rows and 0 columns\n",
      "Presolve time: 0.01s\n",
      "Presolved: 381 rows, 399 columns, 1767 nonzeros\n",
      "\n",
      "Iteration    Objective       Primal Inf.    Dual Inf.      Time\n",
      "       0    4.6713347e+01   1.712500e+01   0.000000e+00      0s\n",
      "      56    6.1232956e+01   0.000000e+00   0.000000e+00      0s\n",
      "\n",
      "Solved in 56 iterations and 0.03 seconds\n",
      "Optimal objective  6.123295569e+01\n",
      "The runtime was 0.03321504592895508 seconds.\n"
     ]
    },
    {
     "data": {
      "text/plain": [
       "<gurobi.Model Continuous instance MTZ: 382 constrs, 399 vars, Parameter changes: TimeLimit=600.0>"
      ]
     },
     "execution_count": 17,
     "metadata": {},
     "output_type": "execute_result"
    }
   ],
   "source": [
    "Miller_Tucker_Zemlin_LR('TSP_instance_n_20_s_2.dat')"
   ]
  },
  {
   "cell_type": "markdown",
   "metadata": {},
   "source": [
    "The following are the Miller-Tucker-Zemlin formulation integer and Linear Relaxation solutions for two instances of size 25."
   ]
  },
  {
   "cell_type": "code",
   "execution_count": 18,
   "metadata": {},
   "outputs": [
    {
     "name": "stdout",
     "output_type": "stream",
     "text": [
      "Changed value of parameter TimeLimit to 600.0\n",
      "   Prev: inf  Min: 0.0  Max: inf  Default: inf\n",
      "Gurobi Optimizer version 9.0.3 build v9.0.3rc0 (mac64)\n",
      "Optimize a model with 602 rows, 624 columns and 2856 nonzeros\n",
      "Model fingerprint: 0xb5febece\n",
      "Variable types: 24 continuous, 600 integer (600 binary)\n",
      "Coefficient statistics:\n",
      "  Matrix range     [1e+00, 2e+01]\n",
      "  Objective range  [4e-01, 2e+01]\n",
      "  Bounds range     [1e+00, 1e+00]\n",
      "  RHS range        [1e+00, 2e+01]\n",
      "Presolve time: 0.02s\n",
      "Presolved: 602 rows, 624 columns, 2856 nonzeros\n",
      "Variable types: 24 continuous, 600 integer (600 binary)\n",
      "\n",
      "Root relaxation: objective 5.736183e+01, 77 iterations, 0.00 seconds\n",
      "\n",
      "    Nodes    |    Current Node    |     Objective Bounds      |     Work\n",
      " Expl Unexpl |  Obj  Depth IntInf | Incumbent    BestBd   Gap | It/Node Time\n",
      "\n",
      "     0     0   57.36183    0   29          -   57.36183      -     -    0s\n",
      "     0     0   71.20805    0   46          -   71.20805      -     -    0s\n",
      "     0     0   71.20805    0   46          -   71.20805      -     -    0s\n",
      "     0     0   71.20805    0   46          -   71.20805      -     -    0s\n",
      "     0     0   71.20805    0   46          -   71.20805      -     -    0s\n",
      "     0     0   71.20805    0   46          -   71.20805      -     -    0s\n",
      "     0     0   71.20805    0   46          -   71.20805      -     -    0s\n",
      "     0     2   71.35121    0   46          -   71.35121      -     -    1s\n",
      "*   90    86              35      87.9381008   71.35121  18.9%   7.3    1s\n",
      "H  183   131                      83.8804888   71.35121  14.9%   5.9    1s\n",
      "H  790   506                      83.7593513   74.95040  10.5%   5.5    3s\n",
      "H  819   499                      81.2570921   74.98593  7.72%   7.1    4s\n",
      "   830   508   76.94062    8   52   81.25709   74.98593  7.72%   7.9    5s\n",
      "H 1066   585                      80.3288924   75.03397  6.59%  10.7    5s\n",
      "* 3267   928              59      80.3185828   76.74242  4.45%  12.2    6s\n",
      "H 3833   791                      79.4873000   77.10586  3.00%  12.5    7s\n",
      "\n",
      "Cutting planes:\n",
      "  Learned: 14\n",
      "  Gomory: 7\n",
      "  Cover: 16\n",
      "  MIR: 16\n",
      "  Flow cover: 79\n",
      "  Inf proof: 10\n",
      "  Zero half: 6\n",
      "\n",
      "Explored 6020 nodes (83884 simplex iterations) in 8.70 seconds\n",
      "Thread count was 4 (of 4 available processors)\n",
      "\n",
      "Solution count 7: 79.4873 80.3186 80.3289 ... 87.9381\n",
      "\n",
      "Optimal solution found (tolerance 1.00e-04)\n",
      "Best objective 7.948729998359e+01, best bound 7.948729998359e+01, gap 0.0000%\n",
      "The runtime was 8.719069957733154 seconds.\n"
     ]
    },
    {
     "data": {
      "text/plain": [
       "<gurobi.Model MIP instance MTZ: 602 constrs, 624 vars, Parameter changes: TimeLimit=600.0>"
      ]
     },
     "execution_count": 18,
     "metadata": {},
     "output_type": "execute_result"
    }
   ],
   "source": [
    "Miller_Tucker_Zemlin('TSP_instance_n_25_s_1.dat')"
   ]
  },
  {
   "cell_type": "code",
   "execution_count": 19,
   "metadata": {},
   "outputs": [
    {
     "name": "stdout",
     "output_type": "stream",
     "text": [
      "Changed value of parameter TimeLimit to 600.0\n",
      "   Prev: inf  Min: 0.0  Max: inf  Default: inf\n",
      "Gurobi Optimizer version 9.0.3 build v9.0.3rc0 (mac64)\n",
      "Optimize a model with 602 rows, 624 columns and 2856 nonzeros\n",
      "Model fingerprint: 0x8ca2a05f\n",
      "Coefficient statistics:\n",
      "  Matrix range     [1e+00, 2e+01]\n",
      "  Objective range  [4e-01, 2e+01]\n",
      "  Bounds range     [1e+00, 1e+00]\n",
      "  RHS range        [1e+00, 2e+01]\n",
      "Presolve removed 1 rows and 0 columns\n",
      "Presolve time: 0.03s\n",
      "Presolved: 601 rows, 624 columns, 2832 nonzeros\n",
      "\n",
      "Iteration    Objective       Primal Inf.    Dual Inf.      Time\n",
      "       0    4.8113668e+01   1.562500e+01   0.000000e+00      0s\n",
      "      66    5.7361830e+01   0.000000e+00   0.000000e+00      0s\n",
      "\n",
      "Solved in 66 iterations and 0.04 seconds\n",
      "Optimal objective  5.736183007e+01\n",
      "The runtime was 0.04853487014770508 seconds.\n"
     ]
    },
    {
     "data": {
      "text/plain": [
       "<gurobi.Model Continuous instance MTZ: 602 constrs, 624 vars, Parameter changes: TimeLimit=600.0>"
      ]
     },
     "execution_count": 19,
     "metadata": {},
     "output_type": "execute_result"
    }
   ],
   "source": [
    "Miller_Tucker_Zemlin_LR('TSP_instance_n_25_s_1.dat')"
   ]
  },
  {
   "cell_type": "code",
   "execution_count": 20,
   "metadata": {},
   "outputs": [
    {
     "name": "stdout",
     "output_type": "stream",
     "text": [
      "Changed value of parameter TimeLimit to 600.0\n",
      "   Prev: inf  Min: 0.0  Max: inf  Default: inf\n",
      "Gurobi Optimizer version 9.0.3 build v9.0.3rc0 (mac64)\n",
      "Optimize a model with 602 rows, 624 columns and 2856 nonzeros\n",
      "Model fingerprint: 0x6e394675\n",
      "Variable types: 24 continuous, 600 integer (600 binary)\n",
      "Coefficient statistics:\n",
      "  Matrix range     [1e+00, 2e+01]\n",
      "  Objective range  [3e-01, 2e+01]\n",
      "  Bounds range     [1e+00, 1e+00]\n",
      "  RHS range        [1e+00, 2e+01]\n",
      "Presolve time: 0.01s\n",
      "Presolved: 602 rows, 624 columns, 2856 nonzeros\n",
      "Variable types: 24 continuous, 600 integer (600 binary)\n",
      "\n",
      "Root relaxation: objective 6.426216e+01, 74 iterations, 0.00 seconds\n",
      "\n",
      "    Nodes    |    Current Node    |     Objective Bounds      |     Work\n",
      " Expl Unexpl |  Obj  Depth IntInf | Incumbent    BestBd   Gap | It/Node Time\n",
      "\n",
      "     0     0   64.26216    0   36          -   64.26216      -     -    0s\n",
      "     0     0   75.29922    0   54          -   75.29922      -     -    0s\n",
      "     0     0   75.30087    0   54          -   75.30087      -     -    0s\n",
      "     0     0   75.60796    0   54          -   75.60796      -     -    0s\n",
      "     0     0   75.95266    0   51          -   75.95266      -     -    0s\n",
      "     0     0   75.95266    0   51          -   75.95266      -     -    0s\n",
      "     0     0   76.02560    0   54          -   76.02560      -     -    0s\n",
      "     0     0   76.52633    0   54          -   76.52633      -     -    0s\n",
      "     0     0   76.56327    0   54          -   76.56327      -     -    0s\n",
      "     0     0   76.56327    0   61          -   76.56327      -     -    0s\n",
      "     0     0   76.58131    0   61          -   76.58131      -     -    0s\n",
      "     0     0   76.58131    0   61          -   76.58131      -     -    0s\n",
      "     0     0   76.58131    0   61          -   76.58131      -     -    0s\n",
      "     0     0   76.58131    0   42          -   76.58131      -     -    0s\n",
      "H    0     0                     283.0045100   76.58131  72.9%     -    0s\n",
      "H    0     0                     241.0271654   76.61178  68.2%     -    0s\n",
      "     0     2   76.61178    0   42  241.02717   76.61178  68.2%     -    0s\n",
      "H   29    32                     171.5198406   76.66586  55.3%  10.9    0s\n",
      "H   83    85                     138.7534649   76.66586  44.7%   6.4    0s\n",
      "*  316   313             148     135.5685192   76.66586  43.4%   4.5    0s\n",
      "*  528   479              86     111.3296795   76.72705  31.1%   5.2    0s\n",
      "H  689   445                      96.0768032   76.84866  20.0%   5.1    0s\n",
      "H  731   458                      88.4904294   76.84866  13.2%   5.0    0s\n",
      "H  798   480                      88.1501530   78.36127  11.1%   7.2    2s\n",
      "*  970   483              60      87.8239552   79.14883  9.88%   8.0    2s\n",
      "*  973   460              54      86.7132829   79.14883  8.72%   7.9    2s\n",
      "H 1102   473                      86.6871652   79.26491  8.56%   8.2    2s\n",
      "* 1150   437              55      86.4165447   79.27393  8.27%   8.3    2s\n",
      "* 1274   448              51      85.3483434   79.54672  6.80%   8.4    2s\n",
      "* 1347   417              42      84.4392226   80.01855  5.24%   8.3    2s\n",
      "H 1687   293                      83.5235852   80.36803  3.78%   8.1    2s\n",
      "* 1729   320              43      83.2998460   80.38164  3.50%   8.2    2s\n",
      "H 1766   303                      83.0863781   80.40315  3.23%   8.2    2s\n",
      "\n",
      "Cutting planes:\n",
      "  Learned: 9\n",
      "  Gomory: 10\n",
      "  Cover: 2\n",
      "  MIR: 4\n",
      "  Flow cover: 45\n",
      "  GUB cover: 1\n",
      "  Inf proof: 4\n",
      "  Zero half: 7\n",
      "  RLT: 1\n",
      "\n",
      "Explored 3756 nodes (32041 simplex iterations) in 3.48 seconds\n",
      "Thread count was 4 (of 4 available processors)\n",
      "\n",
      "Solution count 10: 83.0864 83.2998 83.5236 ... 88.1502\n",
      "\n",
      "Optimal solution found (tolerance 1.00e-04)\n",
      "Best objective 8.308637810270e+01, best bound 8.308637810270e+01, gap 0.0000%\n",
      "The runtime was 3.498263120651245 seconds.\n"
     ]
    },
    {
     "data": {
      "text/plain": [
       "<gurobi.Model MIP instance MTZ: 602 constrs, 624 vars, Parameter changes: TimeLimit=600.0>"
      ]
     },
     "execution_count": 20,
     "metadata": {},
     "output_type": "execute_result"
    }
   ],
   "source": [
    "Miller_Tucker_Zemlin('TSP_instance_n_25_s_2.dat')"
   ]
  },
  {
   "cell_type": "code",
   "execution_count": 21,
   "metadata": {},
   "outputs": [
    {
     "name": "stdout",
     "output_type": "stream",
     "text": [
      "Changed value of parameter TimeLimit to 600.0\n",
      "   Prev: inf  Min: 0.0  Max: inf  Default: inf\n",
      "Gurobi Optimizer version 9.0.3 build v9.0.3rc0 (mac64)\n",
      "Optimize a model with 602 rows, 624 columns and 2856 nonzeros\n",
      "Model fingerprint: 0xdd3bbf79\n",
      "Coefficient statistics:\n",
      "  Matrix range     [1e+00, 2e+01]\n",
      "  Objective range  [3e-01, 2e+01]\n",
      "  Bounds range     [1e+00, 1e+00]\n",
      "  RHS range        [1e+00, 2e+01]\n",
      "Presolve removed 1 rows and 0 columns\n",
      "Presolve time: 0.02s\n",
      "Presolved: 601 rows, 624 columns, 2832 nonzeros\n",
      "\n",
      "Iteration    Objective       Primal Inf.    Dual Inf.      Time\n",
      "       0    4.6921931e+01   1.975000e+01   0.000000e+00      0s\n",
      "      53    6.4262156e+01   0.000000e+00   0.000000e+00      0s\n",
      "\n",
      "Solved in 53 iterations and 0.05 seconds\n",
      "Optimal objective  6.426215614e+01\n",
      "The runtime was 0.057734012603759766 seconds.\n"
     ]
    },
    {
     "data": {
      "text/plain": [
       "<gurobi.Model Continuous instance MTZ: 602 constrs, 624 vars, Parameter changes: TimeLimit=600.0>"
      ]
     },
     "execution_count": 21,
     "metadata": {},
     "output_type": "execute_result"
    }
   ],
   "source": [
    "Miller_Tucker_Zemlin_LR('TSP_instance_n_25_s_2.dat')"
   ]
  },
  {
   "cell_type": "markdown",
   "metadata": {},
   "source": [
    "The following are the Miller-Tucker-Zemlin formulation integer and Linear Relaxation solutions for two instances of size 30."
   ]
  },
  {
   "cell_type": "code",
   "execution_count": 22,
   "metadata": {},
   "outputs": [
    {
     "name": "stdout",
     "output_type": "stream",
     "text": [
      "Changed value of parameter TimeLimit to 600.0\n",
      "   Prev: inf  Min: 0.0  Max: inf  Default: inf\n",
      "Gurobi Optimizer version 9.0.3 build v9.0.3rc0 (mac64)\n",
      "Optimize a model with 872 rows, 899 columns and 4176 nonzeros\n",
      "Model fingerprint: 0x42be7b05\n",
      "Variable types: 29 continuous, 870 integer (870 binary)\n",
      "Coefficient statistics:\n",
      "  Matrix range     [1e+00, 3e+01]\n",
      "  Objective range  [4e-01, 2e+01]\n",
      "  Bounds range     [1e+00, 1e+00]\n",
      "  RHS range        [1e+00, 3e+01]\n",
      "Presolve time: 0.02s\n",
      "Presolved: 872 rows, 899 columns, 4176 nonzeros\n",
      "Variable types: 29 continuous, 870 integer (870 binary)\n",
      "\n",
      "Root relaxation: objective 6.857550e+01, 106 iterations, 0.00 seconds\n",
      "\n",
      "    Nodes    |    Current Node    |     Objective Bounds      |     Work\n",
      " Expl Unexpl |  Obj  Depth IntInf | Incumbent    BestBd   Gap | It/Node Time\n",
      "\n",
      "     0     0   68.57550    0   47          -   68.57550      -     -    0s\n",
      "     0     0   82.42392    0   61          -   82.42392      -     -    0s\n",
      "     0     0   83.08417    0   52          -   83.08417      -     -    0s\n",
      "     0     0   83.08417    0   52          -   83.08417      -     -    0s\n",
      "     0     0   83.54013    0   63          -   83.54013      -     -    0s\n",
      "     0     0   83.54013    0   63          -   83.54013      -     -    0s\n",
      "     0     0   84.19354    0   57          -   84.19354      -     -    0s\n",
      "     0     0   84.19354    0   57          -   84.19354      -     -    0s\n",
      "     0     0   84.22506    0   42          -   84.22506      -     -    0s\n",
      "     0     0   84.22506    0   60          -   84.22506      -     -    0s\n",
      "     0     0   84.22506    0   60          -   84.22506      -     -    0s\n",
      "     0     0   84.22506    0   40          -   84.22506      -     -    0s\n",
      "     0     0   84.22506    0   36          -   84.22506      -     -    0s\n",
      "H    0     0                     287.7684185   84.22506  70.7%     -    0s\n",
      "H    0     0                     195.3263831   84.22506  56.9%     -    0s\n",
      "     0     2   84.22506    0   36  195.32638   84.22506  56.9%     -    0s\n",
      "H   29    31                     170.7960589   84.31180  50.6%  11.0    0s\n",
      "H   30    31                     118.7965690   84.31180  29.0%  11.2    0s\n",
      "H  104   112                     118.4478505   84.31180  28.8%   7.0    0s\n",
      "H  113   112                     113.8695251   84.31180  26.0%   6.8    0s\n",
      "H  778   649                     109.4955074   87.10999  20.4%   7.4    3s\n",
      "H  810   642                     104.8796838   87.15817  16.9%   8.6    3s\n",
      "H 1211   875                     103.8136757   87.15817  16.0%  10.9    4s\n",
      "H 1213   814                     101.4519482   87.15817  14.1%  10.9    4s\n",
      "  1688  1047 infeasible   44       101.45195   87.21374  14.0%  10.4    5s\n",
      "* 2417   597              57      92.0501831   87.44735  5.00%   9.8    5s\n",
      "* 3479   946              68      91.0780049   87.64804  3.77%   9.3    5s\n",
      "* 4347  1136              56      90.5664150   87.78491  3.07%   9.2    5s\n",
      "H 5194  1520                      90.4705972   87.92552  2.81%   9.2    6s\n",
      " 10329  3077   89.81531   42   77   90.47060   88.38354  2.31%   9.3   10s\n",
      "*10661  2980              59      89.6231512   88.38354  1.38%   9.7   13s\n",
      " 14947  1868   89.21106   52   30   89.62315   88.88452  0.82%  10.1   15s\n",
      "\n",
      "Cutting planes:\n",
      "  Learned: 10\n",
      "  Gomory: 11\n",
      "  Cover: 10\n",
      "  MIR: 21\n",
      "  Flow cover: 88\n",
      "  GUB cover: 2\n",
      "  Inf proof: 13\n",
      "  Zero half: 34\n",
      "\n",
      "Explored 16311 nodes (170140 simplex iterations) in 15.69 seconds\n",
      "Thread count was 4 (of 4 available processors)\n",
      "\n",
      "Solution count 10: 89.6232 90.4706 90.5664 ... 113.87\n",
      "\n",
      "Optimal solution found (tolerance 1.00e-04)\n",
      "Best objective 8.962315118704e+01, best bound 8.962315118704e+01, gap 0.0000%\n",
      "The runtime was 15.710031986236572 seconds.\n"
     ]
    },
    {
     "data": {
      "text/plain": [
       "<gurobi.Model MIP instance MTZ: 872 constrs, 899 vars, Parameter changes: TimeLimit=600.0>"
      ]
     },
     "execution_count": 22,
     "metadata": {},
     "output_type": "execute_result"
    }
   ],
   "source": [
    "Miller_Tucker_Zemlin('TSP_instance_n_30_s_1.dat')"
   ]
  },
  {
   "cell_type": "code",
   "execution_count": 23,
   "metadata": {},
   "outputs": [
    {
     "name": "stdout",
     "output_type": "stream",
     "text": [
      "Changed value of parameter TimeLimit to 600.0\n",
      "   Prev: inf  Min: 0.0  Max: inf  Default: inf\n",
      "Gurobi Optimizer version 9.0.3 build v9.0.3rc0 (mac64)\n",
      "Optimize a model with 872 rows, 899 columns and 4176 nonzeros\n",
      "Model fingerprint: 0x5fc60919\n",
      "Coefficient statistics:\n",
      "  Matrix range     [1e+00, 3e+01]\n",
      "  Objective range  [4e-01, 2e+01]\n",
      "  Bounds range     [1e+00, 1e+00]\n",
      "  RHS range        [1e+00, 3e+01]\n",
      "Presolve removed 1 rows and 0 columns\n",
      "Presolve time: 0.03s\n",
      "Presolved: 871 rows, 899 columns, 4147 nonzeros\n",
      "\n",
      "Iteration    Objective       Primal Inf.    Dual Inf.      Time\n",
      "       0    5.4424974e+01   2.025000e+01   0.000000e+00      0s\n",
      "      95    6.8575499e+01   0.000000e+00   0.000000e+00      0s\n",
      "\n",
      "Solved in 95 iterations and 0.05 seconds\n",
      "Optimal objective  6.857549944e+01\n",
      "The runtime was 0.06148195266723633 seconds.\n"
     ]
    },
    {
     "data": {
      "text/plain": [
       "<gurobi.Model Continuous instance MTZ: 872 constrs, 899 vars, Parameter changes: TimeLimit=600.0>"
      ]
     },
     "execution_count": 23,
     "metadata": {},
     "output_type": "execute_result"
    }
   ],
   "source": [
    "Miller_Tucker_Zemlin_LR('TSP_instance_n_30_s_1.dat')"
   ]
  },
  {
   "cell_type": "code",
   "execution_count": 24,
   "metadata": {},
   "outputs": [
    {
     "name": "stdout",
     "output_type": "stream",
     "text": [
      "Changed value of parameter TimeLimit to 600.0\n",
      "   Prev: inf  Min: 0.0  Max: inf  Default: inf\n",
      "Gurobi Optimizer version 9.0.3 build v9.0.3rc0 (mac64)\n",
      "Optimize a model with 872 rows, 899 columns and 4176 nonzeros\n",
      "Model fingerprint: 0xdf16a147\n",
      "Variable types: 29 continuous, 870 integer (870 binary)\n",
      "Coefficient statistics:\n",
      "  Matrix range     [1e+00, 3e+01]\n",
      "  Objective range  [3e-01, 2e+01]\n",
      "  Bounds range     [1e+00, 1e+00]\n",
      "  RHS range        [1e+00, 3e+01]\n",
      "Presolve time: 0.01s\n",
      "Presolved: 872 rows, 899 columns, 4176 nonzeros\n",
      "Variable types: 29 continuous, 870 integer (870 binary)\n",
      "\n",
      "Root relaxation: objective 5.769402e+01, 110 iterations, 0.00 seconds\n",
      "\n",
      "    Nodes    |    Current Node    |     Objective Bounds      |     Work\n",
      " Expl Unexpl |  Obj  Depth IntInf | Incumbent    BestBd   Gap | It/Node Time\n",
      "\n",
      "     0     0   57.69402    0   40          -   57.69402      -     -    0s\n",
      "H    0     0                     287.3057702   57.69402  79.9%     -    0s\n",
      "     0     0   81.21644    0   60  287.30577   81.21644  71.7%     -    0s\n",
      "     0     0   81.22580    0   60  287.30577   81.22580  71.7%     -    0s\n",
      "     0     0   81.22580    0   60  287.30577   81.22580  71.7%     -    0s\n",
      "     0     0   81.22580    0   60  287.30577   81.22580  71.7%     -    0s\n",
      "     0     0   81.22580    0   48  287.30577   81.22580  71.7%     -    0s\n",
      "     0     2   81.36797    0   48  287.30577   81.36797  71.7%     -    0s\n",
      "H   29    29                     269.0754282   81.36797  69.8%   8.8    0s\n",
      "H   30    29                     263.7325084   81.36797  69.1%   8.7    0s\n",
      "H  120   117                     158.4323363   81.36797  48.6%   6.5    0s\n",
      "*  237   235             118     144.8588014   81.36797  43.8%   5.8    0s\n",
      "*  452   420             110     136.3965355   81.36797  40.3%   5.7    0s\n",
      "H  763   643                     103.4784180   81.39466  21.3%   6.1    1s\n",
      "H  764   610                     100.8206856   81.39466  19.3%   6.1    1s\n",
      "H  808   608                     100.3263003   84.66743  15.6%   7.2    3s\n",
      "H  818   584                      90.0206729   84.66743  5.95%   7.1    3s\n",
      "   844   603   90.02067  154   55   90.02067   84.69037  5.92%   7.5    5s\n",
      "* 1203   675              88      88.6072162   84.82813  4.26%   9.6    5s\n",
      " 11899    52     cutoff   56        88.60722   88.13458  0.53%  11.0   10s\n",
      "\n",
      "Cutting planes:\n",
      "  Learned: 16\n",
      "  Gomory: 10\n",
      "  Cover: 14\n",
      "  MIR: 7\n",
      "  Flow cover: 77\n",
      "  Inf proof: 19\n",
      "  Zero half: 5\n",
      "\n",
      "Explored 12302 nodes (134047 simplex iterations) in 10.12 seconds\n",
      "Thread count was 4 (of 4 available processors)\n",
      "\n",
      "Solution count 10: 88.6072 90.0207 100.326 ... 269.075\n",
      "\n",
      "Optimal solution found (tolerance 1.00e-04)\n",
      "Best objective 8.860721616345e+01, best bound 8.860721616345e+01, gap 0.0000%\n",
      "The runtime was 10.143738031387329 seconds.\n"
     ]
    },
    {
     "data": {
      "text/plain": [
       "<gurobi.Model MIP instance MTZ: 872 constrs, 899 vars, Parameter changes: TimeLimit=600.0>"
      ]
     },
     "execution_count": 24,
     "metadata": {},
     "output_type": "execute_result"
    }
   ],
   "source": [
    "Miller_Tucker_Zemlin('TSP_instance_n_30_s_2.dat')"
   ]
  },
  {
   "cell_type": "code",
   "execution_count": 25,
   "metadata": {},
   "outputs": [
    {
     "name": "stdout",
     "output_type": "stream",
     "text": [
      "Changed value of parameter TimeLimit to 600.0\n",
      "   Prev: inf  Min: 0.0  Max: inf  Default: inf\n",
      "Gurobi Optimizer version 9.0.3 build v9.0.3rc0 (mac64)\n",
      "Optimize a model with 872 rows, 899 columns and 4176 nonzeros\n",
      "Model fingerprint: 0x04c4afc5\n",
      "Coefficient statistics:\n",
      "  Matrix range     [1e+00, 3e+01]\n",
      "  Objective range  [3e-01, 2e+01]\n",
      "  Bounds range     [1e+00, 1e+00]\n",
      "  RHS range        [1e+00, 3e+01]\n",
      "Presolve removed 1 rows and 0 columns\n",
      "Presolve time: 0.02s\n",
      "Presolved: 871 rows, 899 columns, 4147 nonzeros\n",
      "\n",
      "Iteration    Objective       Primal Inf.    Dual Inf.      Time\n",
      "       0    4.6994596e+01   1.637500e+01   0.000000e+00      0s\n",
      "     127    5.7694022e+01   0.000000e+00   0.000000e+00      0s\n",
      "\n",
      "Solved in 127 iterations and 0.05 seconds\n",
      "Optimal objective  5.769402174e+01\n",
      "The runtime was 0.05445599555969238 seconds.\n"
     ]
    },
    {
     "data": {
      "text/plain": [
       "<gurobi.Model Continuous instance MTZ: 872 constrs, 899 vars, Parameter changes: TimeLimit=600.0>"
      ]
     },
     "execution_count": 25,
     "metadata": {},
     "output_type": "execute_result"
    }
   ],
   "source": [
    "Miller_Tucker_Zemlin_LR('TSP_instance_n_30_s_2.dat')"
   ]
  },
  {
   "cell_type": "markdown",
   "metadata": {},
   "source": [
    "The following are the Miller-Tucker-Zemlin formulation integer and Linear Relaxation solutions for two instances of size 50."
   ]
  },
  {
   "cell_type": "code",
   "execution_count": 26,
   "metadata": {
    "scrolled": true
   },
   "outputs": [
    {
     "name": "stdout",
     "output_type": "stream",
     "text": [
      "Changed value of parameter TimeLimit to 600.0\n",
      "   Prev: inf  Min: 0.0  Max: inf  Default: inf\n",
      "Gurobi Optimizer version 9.0.3 build v9.0.3rc0 (mac64)\n",
      "Optimize a model with 2452 rows, 2499 columns and 11956 nonzeros\n",
      "Model fingerprint: 0x15066e93\n",
      "Variable types: 49 continuous, 2450 integer (2450 binary)\n",
      "Coefficient statistics:\n",
      "  Matrix range     [1e+00, 5e+01]\n",
      "  Objective range  [4e-01, 2e+01]\n",
      "  Bounds range     [1e+00, 1e+00]\n",
      "  RHS range        [1e+00, 5e+01]\n",
      "Presolve time: 0.04s\n",
      "Presolved: 2452 rows, 2499 columns, 11956 nonzeros\n",
      "Variable types: 49 continuous, 2450 integer (2450 binary)\n",
      "\n",
      "Root relaxation: objective 9.477304e+01, 176 iterations, 0.01 seconds\n",
      "\n",
      "    Nodes    |    Current Node    |     Objective Bounds      |     Work\n",
      " Expl Unexpl |  Obj  Depth IntInf | Incumbent    BestBd   Gap | It/Node Time\n",
      "\n",
      "     0     0   94.77304    0   90          -   94.77304      -     -    0s\n",
      "     0     0  106.71075    0   98          -  106.71075      -     -    0s\n",
      "     0     0  106.74395    0   99          -  106.74395      -     -    0s\n",
      "     0     0  106.74482    0  100          -  106.74482      -     -    0s\n",
      "     0     0  108.01127    0  101          -  108.01127      -     -    0s\n",
      "     0     0  108.07525    0  107          -  108.07525      -     -    0s\n",
      "     0     0  108.07525    0  107          -  108.07525      -     -    0s\n",
      "     0     0  108.63457    0   99          -  108.63457      -     -    0s\n",
      "     0     0  108.77796    0   95          -  108.77796      -     -    0s\n",
      "     0     0  108.77796    0   95          -  108.77796      -     -    0s\n",
      "     0     0  108.82101    0  117          -  108.82101      -     -    0s\n",
      "     0     0  109.07327    0  109          -  109.07327      -     -    0s\n",
      "     0     0  109.07773    0  107          -  109.07773      -     -    0s\n",
      "     0     0  109.11786    0   92          -  109.11786      -     -    0s\n",
      "     0     0  109.12425    0   92          -  109.12425      -     -    0s\n",
      "     0     0  109.12546    0   94          -  109.12546      -     -    1s\n",
      "     0     0  109.18661    0  113          -  109.18661      -     -    1s\n",
      "     0     0  109.18661    0  111          -  109.18661      -     -    1s\n",
      "     0     2  109.18661    0  111          -  109.18661      -     -    1s\n",
      "*  133   128              55     136.4058200  109.41878  19.8%  11.5    1s\n",
      "H  148   124                     135.8595547  109.41878  19.5%  11.6    2s\n",
      "H  734   614                     126.7050883  109.42111  13.6%  11.3    5s\n",
      "   771   640  126.70509   93   94  126.70509  111.73864  11.8%  14.9   11s\n",
      "H  771   607                     124.0026498  111.73864  9.89%  14.9   12s\n",
      "   784   616  117.85796   29  121  124.00265  111.73864  9.89%  14.7   15s\n",
      "H  817   612                     120.7783770  111.84339  7.40%  18.3   19s\n",
      "  1140   823  116.74190   66   93  120.77838  111.84339  7.40%  20.1   20s\n",
      "* 3115  1833             101     119.9756630  112.01337  6.64%  18.2   23s\n",
      "  4206  2658  114.65415   35   85  119.97566  112.05361  6.60%  18.3   25s\n",
      "  7896  5599  114.03068   63   47  119.97566  112.23458  6.45%  16.1   30s\n",
      " 10255  7203  117.02016  171  119  119.97566  112.29556  6.40%  15.8   35s\n",
      "H10264  6848                     119.7207946  112.29556  6.20%  15.7   38s\n",
      "H10268  6512                     119.6241747  112.29556  6.13%  15.9   40s\n",
      "H10271  6185                     119.1843386  112.29556  5.78%  15.9   40s\n",
      " 12268  7120  115.83191  114   19  119.18434  112.29556  5.78%  16.4   45s\n",
      "H12929  7002                     119.0497478  112.29556  5.67%  16.4   46s\n",
      " 15605  8338  115.94191  195   16  119.04975  112.29556  5.67%  16.0   50s\n",
      "*15848  7787             102     118.5749968  112.29556  5.30%  16.0   50s\n",
      "*15952  7390              89     117.9208228  112.29556  4.77%  16.0   50s\n",
      " 19293  8726  115.48425   60   74  117.92082  112.35663  4.72%  16.2   55s\n",
      "H20719  8607                     117.8323769  112.40179  4.61%  16.3   57s\n",
      " 20736  8619  116.57606   73  114  117.83238  112.40179  4.61%  16.2   61s\n",
      "H20765  8209                     115.6362970  112.40179  2.80%  16.4   64s\n",
      " 20955  8313  112.40179   80   83  115.63630  112.40179  2.80%  16.5   65s\n",
      " 24126  9307  113.23926   63   66  115.63630  112.40179  2.80%  17.1   70s\n",
      "H28537  8680                     114.5505995  112.48460  1.80%  17.5   74s\n",
      " 28627  8672     cutoff   81       114.55060  112.49120  1.80%  17.6   75s\n",
      " 31412  8551  114.02112   65   59  114.55060  112.74115  1.58%  18.1   80s\n",
      " 31463  8588  112.74115   60   96  114.55060  112.74115  1.58%  18.3   85s\n",
      "H31527  8184                     114.1877216  112.74115  1.27%  18.4   88s\n",
      " 32073  8275  112.74115   68   38  114.18772  112.74115  1.27%  18.6   90s\n",
      " 33406  8511  112.80282   78   85  114.18772  112.74115  1.27%  18.8   97s\n",
      " 34793  8652     cutoff   77       114.18772  112.74115  1.27%  19.0  100s\n",
      " 38254  8653  113.18729   94   52  114.18772  112.74778  1.26%  19.9  105s\n",
      " 41310  8450  113.74325   85   84  114.18772  112.90337  1.12%  20.9  110s\n",
      " 44569  7830  113.47305   78   60  114.18772  113.05308  0.99%  21.8  115s\n",
      " 46961  7157  113.76037   65   41  114.18772  113.16259  0.90%  22.5  120s\n",
      " 50031  5963  114.17209   87   40  114.18772  113.29645  0.78%  23.2  125s\n",
      " 52521  4750  114.10920   81  104  114.18772  113.41960  0.67%  23.8  130s\n",
      " 55268  3219     cutoff   80       114.18772  113.55641  0.55%  24.3  135s\n",
      " 58098  1890  114.10682   92   81  114.18772  113.72452  0.41%  24.6  140s\n",
      "\n",
      "Cutting planes:\n",
      "  Learned: 28\n",
      "  Gomory: 23\n",
      "  Cover: 54\n",
      "  MIR: 30\n",
      "  StrongCG: 1\n",
      "  Flow cover: 326\n",
      "  Inf proof: 35\n",
      "  Zero half: 42\n",
      "  RLT: 1\n",
      "\n",
      "Explored 61810 nodes (1515892 simplex iterations) in 144.45 seconds\n",
      "Thread count was 4 (of 4 available processors)\n",
      "\n",
      "Solution count 10: 114.188 114.551 115.636 ... 119.721\n",
      "\n",
      "Optimal solution found (tolerance 1.00e-04)\n",
      "Best objective 1.141877216252e+02, best bound 1.141795008359e+02, gap 0.0072%\n",
      "The runtime was 144.47028613090515 seconds.\n"
     ]
    },
    {
     "data": {
      "text/plain": [
       "<gurobi.Model MIP instance MTZ: 2452 constrs, 2499 vars, Parameter changes: TimeLimit=600.0>"
      ]
     },
     "execution_count": 26,
     "metadata": {},
     "output_type": "execute_result"
    }
   ],
   "source": [
    "Miller_Tucker_Zemlin('TSP_instance_n_50_s_1.dat')"
   ]
  },
  {
   "cell_type": "code",
   "execution_count": 27,
   "metadata": {},
   "outputs": [
    {
     "name": "stdout",
     "output_type": "stream",
     "text": [
      "Changed value of parameter TimeLimit to 600.0\n",
      "   Prev: inf  Min: 0.0  Max: inf  Default: inf\n",
      "Gurobi Optimizer version 9.0.3 build v9.0.3rc0 (mac64)\n",
      "Optimize a model with 2452 rows, 2499 columns and 11956 nonzeros\n",
      "Model fingerprint: 0x346fc415\n",
      "Coefficient statistics:\n",
      "  Matrix range     [1e+00, 5e+01]\n",
      "  Objective range  [4e-01, 2e+01]\n",
      "  Bounds range     [1e+00, 1e+00]\n",
      "  RHS range        [1e+00, 5e+01]\n",
      "Presolve removed 1 rows and 0 columns\n",
      "Presolve time: 0.02s\n",
      "Presolved: 2451 rows, 2499 columns, 11907 nonzeros\n",
      "\n",
      "Iteration    Objective       Primal Inf.    Dual Inf.      Time\n",
      "       0    7.5466798e+01   3.275000e+01   0.000000e+00      0s\n",
      "     179    9.4773036e+01   0.000000e+00   0.000000e+00      0s\n",
      "\n",
      "Solved in 179 iterations and 0.05 seconds\n",
      "Optimal objective  9.477303611e+01\n",
      "The runtime was 0.05704188346862793 seconds.\n"
     ]
    },
    {
     "data": {
      "text/plain": [
       "<gurobi.Model Continuous instance MTZ: 2452 constrs, 2499 vars, Parameter changes: TimeLimit=600.0>"
      ]
     },
     "execution_count": 27,
     "metadata": {},
     "output_type": "execute_result"
    }
   ],
   "source": [
    "Miller_Tucker_Zemlin_LR('TSP_instance_n_50_s_1.dat')"
   ]
  },
  {
   "cell_type": "code",
   "execution_count": 28,
   "metadata": {},
   "outputs": [
    {
     "name": "stdout",
     "output_type": "stream",
     "text": [
      "Changed value of parameter TimeLimit to 600.0\n",
      "   Prev: inf  Min: 0.0  Max: inf  Default: inf\n",
      "Gurobi Optimizer version 9.0.3 build v9.0.3rc0 (mac64)\n",
      "Optimize a model with 2452 rows, 2499 columns and 11956 nonzeros\n",
      "Model fingerprint: 0x0d49c118\n",
      "Variable types: 49 continuous, 2450 integer (2450 binary)\n",
      "Coefficient statistics:\n",
      "  Matrix range     [1e+00, 5e+01]\n",
      "  Objective range  [2e-01, 2e+01]\n",
      "  Bounds range     [1e+00, 1e+00]\n",
      "  RHS range        [1e+00, 5e+01]\n",
      "Presolve time: 0.03s\n",
      "Presolved: 2452 rows, 2499 columns, 11956 nonzeros\n",
      "Variable types: 49 continuous, 2450 integer (2450 binary)\n",
      "\n",
      "Root relaxation: objective 8.651538e+01, 159 iterations, 0.00 seconds\n",
      "\n",
      "    Nodes    |    Current Node    |     Objective Bounds      |     Work\n",
      " Expl Unexpl |  Obj  Depth IntInf | Incumbent    BestBd   Gap | It/Node Time\n",
      "\n",
      "     0     0   86.51538    0   73          -   86.51538      -     -    0s\n",
      "     0     0   92.82769    0  103          -   92.82769      -     -    0s\n",
      "     0     0   93.38587    0   99          -   93.38587      -     -    0s\n",
      "     0     0   93.38587    0   99          -   93.38587      -     -    0s\n",
      "     0     0   93.66082    0  101          -   93.66082      -     -    0s\n",
      "     0     0   93.91549    0   99          -   93.91549      -     -    0s\n",
      "     0     0   93.91549    0   99          -   93.91549      -     -    0s\n",
      "     0     0   96.90798    0  102          -   96.90798      -     -    0s\n",
      "     0     0   97.37948    0  103          -   97.37948      -     -    0s\n",
      "     0     0   97.41043    0  100          -   97.41043      -     -    0s\n",
      "     0     0   97.42290    0  103          -   97.42290      -     -    0s\n",
      "     0     0   97.44058    0  103          -   97.44058      -     -    0s\n",
      "     0     0   97.98624    0  100          -   97.98624      -     -    0s\n",
      "     0     0   98.14760    0   97          -   98.14760      -     -    0s\n",
      "     0     0   98.21377    0  103          -   98.21377      -     -    0s\n",
      "     0     0   98.21377    0  103          -   98.21377      -     -    0s\n",
      "     0     0   98.21668    0  111          -   98.21668      -     -    0s\n",
      "     0     0   98.21668    0  111          -   98.21668      -     -    0s\n",
      "     0     0   98.21668    0  111          -   98.21668      -     -    0s\n",
      "     0     0   98.21668    0   99          -   98.21668      -     -    1s\n",
      "     0     0   98.21668    0   99          -   98.21668      -     -    1s\n",
      "     0     0   98.23877    0  113          -   98.23877      -     -    1s\n",
      "     0     0   98.23877    0  113          -   98.23877      -     -    1s\n",
      "     0     2   98.23877    0  113          -   98.23877      -     -    1s\n",
      "*  219   216              83     136.3225360   98.58104  27.7%   9.7    1s\n",
      "H  227   200                     134.0972253   98.58104  26.5%   9.5    3s\n",
      "H  231   106                     115.8018976   98.58104  14.9%   9.4    3s\n",
      "   743   502   98.84016    5   73  115.80190   98.66265  14.8%   8.3    5s\n",
      "H  747   479                     112.8557178   98.94038  12.3%   8.3    6s\n",
      "   770   495  100.94953   10   73  112.85572  100.34776  11.1%  11.0   10s\n",
      "H  782   477                     112.6590731  100.34776  10.9%  10.8   13s\n",
      "   812   502  100.39039   34   63  112.65907  100.34920  10.9%  13.3   15s\n",
      "* 2134   981              95     111.1153139  100.34920  9.69%  17.7   19s\n",
      "  2251  1103  103.63231  199   45  111.11531  100.34920  9.69%  17.8   20s\n",
      "H 4084  2447                     110.4654477  100.41611  9.10%  14.2   24s\n",
      "  4786  3196  103.28004  295   55  110.46545  100.45032  9.07%  13.7   25s\n",
      "  8349  5758  106.58796   90   49  110.46545  100.58475  8.94%  14.5   30s\n",
      " 10496  7028  104.80174   47  121  110.46545  100.79707  8.75%  14.7   35s\n",
      " 10540  7057  108.64868   84  101  110.46545  101.88168  7.77%  14.6   40s\n",
      " 10571  7081  102.28714   45  102  110.46545  102.28714  7.40%  15.4   45s\n",
      "H10636  6770                     110.4654403  102.34904  7.35%  15.6   48s\n",
      " 10972  6975  103.30112   89   52  110.46544  102.34904  7.35%  16.1   50s\n",
      "H11534  6785                     110.4654403  102.34904  7.35%  16.3   52s\n",
      " 13059  7476  103.52543   53   46  110.46544  102.86128  6.88%  16.6   55s\n",
      "*15901  8160              98     110.1420754  103.06494  6.43%  16.1   58s\n",
      " 17065  8763  104.25218  156   57  110.14208  103.06907  6.42%  16.6   60s\n",
      " 20950 10103  104.66764   59  108  110.14208  103.16498  6.33%  16.3   65s\n",
      " 20962 10114  103.16498   55  115  110.14208  103.16498  6.33%  16.4   70s\n",
      "*21618  9836             145     110.1295519  103.16498  6.32%  16.5   74s\n",
      "H21698  9287                     108.9081643  103.16498  5.27%  16.5   76s\n",
      "H21701  8830                     108.9000661  103.16498  5.27%  16.5   76s\n",
      " 23677  9628  106.92260   91   54  108.90007  103.16498  5.27%  16.3   80s\n",
      " 28562 11428  105.02239   64   87  108.90007  103.33774  5.11%  16.0   85s\n",
      " 31399 12035  104.11821   85   97  108.90007  103.44918  5.01%  16.2   90s\n",
      " 31439 12061  105.28847   74   99  108.90007  103.44918  5.01%  16.1   95s\n",
      " 31477 12087  106.55074  109  123  108.90007  103.72545  4.75%  16.1  100s\n",
      " 31509 12112  103.83243   81  103  108.90007  103.83243  4.65%  16.5  105s\n",
      "H31846 11639                     108.4622202  103.98305  4.13%  16.6  110s\n",
      " 35075 12800  106.99830  108   62  108.46222  104.14864  3.98%  16.6  115s\n",
      " 40211 14878  104.86964   96   54  108.46222  104.27084  3.86%  16.7  123s\n",
      " 41751 15214  104.75618  108   95  108.46222  104.29906  3.84%  16.6  125s\n",
      " 41777 15231  105.46528  216  128  108.46222  104.29906  3.84%  16.6  130s\n",
      " 42206 15399  105.58493  154   51  108.46222  104.29906  3.84%  16.8  135s\n",
      "H42246 14629                     108.4622170  104.29906  3.84%  16.8  135s\n",
      " 45245 15645  104.29906  105   86  108.46222  104.29906  3.84%  16.8  140s\n",
      "H45732 15013                     108.4622150  104.29906  3.84%  16.8  141s\n",
      " 49306 16537  106.91749  121   77  108.46221  104.29906  3.84%  16.8  145s\n",
      "H52658 17008                     108.4622090  104.29906  3.84%  16.9  148s\n",
      " 54014 17739  104.54685  109   78  108.46221  104.32473  3.81%  16.9  150s\n",
      " 59592 19227  106.06519  134   66  108.46221  104.39443  3.75%  17.1  155s\n",
      "H60698 18708                     108.4622071  104.40500  3.74%  17.1  156s\n",
      "H62733 18724                     108.4622019  104.42453  3.72%  17.1  170s\n",
      " 62752 18737  105.69998  153  109  108.46220  104.42453  3.72%  17.1  175s\n",
      " 62768 18748  105.41285  149  114  108.46220  104.42453  3.72%  17.1  180s\n",
      "H62776 17814                     108.4621925  104.42453  3.72%  17.1  183s\n",
      " 62781 17817  105.49098  147  100  108.46219  104.42453  3.72%  17.1  185s\n",
      " 62792 17825  106.69408  116  100  108.46219  104.42453  3.72%  17.1  191s\n",
      " 62843 17864  104.42453  114  123  108.46219  104.42453  3.72%  17.2  195s\n",
      " 64099 18292  104.42453  143  112  108.46219  104.42453  3.72%  17.2  200s\n",
      " 67671 19858  105.35369  119   73  108.46219  104.42453  3.72%  17.0  205s\n",
      " 71574 21463 infeasible  179       108.46219  104.42453  3.72%  17.1  210s\n",
      " 76388 23063  105.52130  179   67  108.46219  104.42453  3.72%  17.0  215s\n",
      "H76391 22170                     108.4621879  104.42453  3.72%  17.0  215s\n",
      " 80248 24203  104.57219  119   35  108.46219  104.42453  3.72%  16.9  220s\n",
      " 85253 26104     cutoff  148       108.46219  104.42453  3.72%  16.9  225s\n",
      " 89853 28188  105.46069  206   66  108.46219  104.42453  3.72%  16.8  230s\n",
      " 94515 30145  106.21821  180   83  108.46219  104.42453  3.72%  16.8  235s\n",
      "H95474 29265                     108.4621851  104.42453  3.72%  16.8  236s\n",
      " 96986 29978  108.17917  152   29  108.46219  104.42453  3.72%  16.8  240s\n",
      " 101203 31411  106.16633  139   49  108.46219  104.42453  3.72%  16.7  245s\n",
      " 105776 33269  105.96836  200   49  108.46219  104.42453  3.72%  16.7  250s\n",
      " 110662 35046  105.90682  164   69  108.46219  104.42453  3.72%  16.7  255s\n",
      " 114652 37639  106.84953  140   12  108.46219  104.42453  3.72%  16.7  260s\n",
      " 119374 40881  105.04865  157   41  108.46219  104.44361  3.71%  16.7  265s\n",
      " 124513 44851  106.49356  137   28  108.46219  104.46961  3.68%  16.7  270s\n",
      " 128912 47754  106.72971  140   80  108.46219  104.48846  3.66%  16.7  275s\n",
      " 133665 50926  105.71161  157   61  108.46219  104.50728  3.65%  16.6  280s\n",
      " 138159 53764  107.58700  143   32  108.46219  104.52519  3.63%  16.6  285s\n",
      " 142282 56785  107.09331  146   80  108.46219  104.54295  3.61%  16.6  290s\n"
     ]
    },
    {
     "name": "stdout",
     "output_type": "stream",
     "text": [
      " 146499 59552  106.30894  135   26  108.46219  104.55951  3.60%  16.6  295s\n",
      " 150713 62508  105.19793  124   39  108.46219  104.57880  3.58%  16.6  300s\n",
      " 154606 65460  105.73647  148   39  108.46219  104.59137  3.57%  16.6  305s\n",
      " 158504 68133  105.76682  164   45  108.46219  104.60589  3.56%  16.6  310s\n",
      " 162872 71173  107.67964  147   22  108.46219  104.62018  3.54%  16.6  315s\n",
      "H166557 69503                     107.9036250  104.63089  3.03%  16.6  318s\n",
      " 167399 69948  107.78963  143   20  107.90362  104.63457  3.03%  16.6  321s\n",
      " 170573 71987  107.12631  188   32  107.90362  104.64955  3.02%  16.6  325s\n",
      " 173822 73822  105.60376  128   91  107.90362  104.66640  3.00%  16.6  330s\n",
      " 177031 75519  106.18478  132   61  107.90362  104.68023  2.99%  16.6  335s\n",
      " 180419 77606     cutoff  139       107.90362  104.69336  2.98%  16.7  340s\n",
      " 184417 79849  107.05286  134   97  107.90362  104.70936  2.96%  16.7  345s\n",
      " 188107 82145 infeasible  160       107.90362  104.72510  2.95%  16.7  350s\n",
      " 192002 84418     cutoff  166       107.90362  104.73597  2.94%  16.8  355s\n",
      " 195035 85726  106.53479  142   30  107.90362  104.74362  2.93%  16.8  360s\n",
      " 197968 87175  107.34466  148   44  107.90362  104.75425  2.92%  16.8  365s\n",
      " 201562 89064  107.64900  130   60  107.90362  104.76979  2.90%  16.8  370s\n",
      " 205339 91246  107.27371  174   69  107.90362  104.78241  2.89%  16.8  375s\n",
      " 208822 93435  107.80210  138   78  107.90362  104.79145  2.88%  16.8  380s\n",
      " 212232 95298  106.90493  183   54  107.90362  104.80287  2.87%  16.8  385s\n",
      " 215485 97116     cutoff  144       107.90362  104.81639  2.86%  16.8  390s\n",
      " 218320 98580  107.63209  138   34  107.90362  104.82545  2.85%  16.8  395s\n",
      " 221823 100509  106.28100  121   48  107.90362  104.83753  2.84%  16.9  400s\n",
      " 224929 102115  105.32100  148   86  107.90362  104.84479  2.83%  16.9  405s\n",
      " 228396 103939  107.10668  135   60  107.90362  104.85582  2.82%  16.9  410s\n",
      "H230163 104765                     107.9036247  104.86219  2.82%  16.9  412s\n",
      " 231976 105933  107.38585  130   71  107.90362  104.86931  2.81%  16.9  415s\n",
      " 236268 108318  106.49901  198   40  107.90362  104.88301  2.80%  16.9  420s\n",
      " 240281 110556  106.96471  184   39  107.90362  104.89647  2.79%  16.9  425s\n",
      " 242769 111893  105.05690  135  108  107.90362  104.90609  2.78%  16.9  430s\n",
      " 245666 113524  107.13239  134   44  107.90362  104.91662  2.77%  17.0  435s\n",
      " 248911 115195  105.99469  138   66  107.90362  104.92800  2.76%  17.0  440s\n",
      " 251812 116695  106.57480  137   88  107.90362  104.93624  2.75%  17.0  445s\n",
      " 254255 118048  105.40991  140  112  107.90362  104.94465  2.74%  17.0  450s\n",
      " 257680 120015  107.35393  131   29  107.90362  104.95562  2.73%  17.0  455s\n",
      " 261243 121782  106.77046  128   31  107.90362  104.96608  2.72%  17.0  460s\n",
      " 265131 123985  107.15275  154   47  107.90362  104.97795  2.71%  17.0  465s\n",
      " 269012 126019  106.05254  122   39  107.90362  104.99012  2.70%  17.0  470s\n",
      " 271339 127175  107.69785  133   46  107.90362  104.99586  2.69%  17.0  475s\n",
      " 275212 129321  105.66789  128   91  107.90362  105.00790  2.68%  17.0  480s\n",
      " 278979 131184     cutoff  135       107.90362  105.01978  2.67%  17.1  485s\n",
      " 282111 132694     cutoff  151       107.90362  105.03054  2.66%  17.1  490s\n",
      " 285759 134597  106.47339  133   84  107.90362  105.04292  2.65%  17.1  495s\n",
      " 289188 136048  106.06632  130   66  107.90362  105.05195  2.64%  17.2  500s\n",
      " 292408 137729  105.47457  151   49  107.90362  105.06480  2.63%  17.2  505s\n",
      " 295821 139185  105.97319  144  108  107.90362  105.07405  2.62%  17.2  510s\n",
      " 298825 140491  107.85782  130   73  107.90362  105.08249  2.61%  17.3  515s\n",
      " 301582 141850  105.86219  131   50  107.90362  105.09120  2.61%  17.3  520s\n",
      " 303929 142902  107.45877  133   78  107.90362  105.09885  2.60%  17.3  525s\n",
      " 307525 144649  105.73438  124   71  107.90362  105.11129  2.59%  17.3  530s\n",
      " 310288 145958  106.60772  133   68  107.90362  105.12066  2.58%  17.3  535s\n",
      " 313091 147172  106.10918  129   93  107.90362  105.13256  2.57%  17.4  540s\n",
      " 314483 147887  106.56857  137   94  107.90362  105.13588  2.57%  17.4  545s\n",
      " 318108 149587  107.73036  164   47  107.90362  105.14711  2.55%  17.4  550s\n",
      " 321180 151075  105.83190  138   34  107.90362  105.15724  2.55%  17.4  555s\n",
      " 324849 152208     cutoff  185       107.90362  105.16504  2.54%  17.5  560s\n",
      " 327427 153288  107.34732  134   32  107.90362  105.17241  2.53%  17.5  565s\n",
      " 331080 154965  107.66560  141   18  107.90362  105.18406  2.52%  17.5  570s\n",
      " 333864 156106  106.75171  134   22  107.90362  105.19234  2.51%  17.6  575s\n",
      " 337430 157430  107.11379  242   22  107.90362  105.20197  2.50%  17.6  580s\n",
      " 340399 158511  107.07001  123   96  107.90362  105.21007  2.50%  17.6  585s\n",
      " 342756 159559     cutoff  152       107.90362  105.21804  2.49%  17.6  591s\n",
      " 345585 160825  106.83798  129   24  107.90362  105.22595  2.48%  17.7  595s\n",
      " 348647 162053  107.35094  144   37  107.90362  105.23569  2.47%  17.7  600s\n",
      "\n",
      "Cutting planes:\n",
      "  Learned: 19\n",
      "  Gomory: 13\n",
      "  Cover: 206\n",
      "  MIR: 46\n",
      "  Flow cover: 336\n",
      "  Inf proof: 96\n",
      "  Zero half: 40\n",
      "\n",
      "Explored 349131 nodes (6181339 simplex iterations) in 600.06 seconds\n",
      "Thread count was 4 (of 4 available processors)\n",
      "\n",
      "Solution count 10: 107.904 108.462 108.9 ... 112.856\n",
      "\n",
      "Time limit reached\n",
      "Best objective 1.079036249844e+02, best bound 1.052360612222e+02, gap 2.4722%\n",
      "The runtime was 600.0770659446716 seconds.\n"
     ]
    },
    {
     "data": {
      "text/plain": [
       "<gurobi.Model MIP instance MTZ: 2452 constrs, 2499 vars, Parameter changes: TimeLimit=600.0>"
      ]
     },
     "execution_count": 28,
     "metadata": {},
     "output_type": "execute_result"
    }
   ],
   "source": [
    "Miller_Tucker_Zemlin('TSP_instance_n_50_s_2.dat')"
   ]
  },
  {
   "cell_type": "code",
   "execution_count": 29,
   "metadata": {},
   "outputs": [
    {
     "name": "stdout",
     "output_type": "stream",
     "text": [
      "Changed value of parameter TimeLimit to 600.0\n",
      "   Prev: inf  Min: 0.0  Max: inf  Default: inf\n",
      "Gurobi Optimizer version 9.0.3 build v9.0.3rc0 (mac64)\n",
      "Optimize a model with 2452 rows, 2499 columns and 11956 nonzeros\n",
      "Model fingerprint: 0x1f55d68e\n",
      "Coefficient statistics:\n",
      "  Matrix range     [1e+00, 5e+01]\n",
      "  Objective range  [2e-01, 2e+01]\n",
      "  Bounds range     [1e+00, 1e+00]\n",
      "  RHS range        [1e+00, 5e+01]\n",
      "Presolve removed 1 rows and 0 columns\n",
      "Presolve time: 0.03s\n",
      "Presolved: 2451 rows, 2499 columns, 11907 nonzeros\n",
      "\n",
      "Iteration    Objective       Primal Inf.    Dual Inf.      Time\n",
      "       0    6.4225866e+01   4.287500e+01   0.000000e+00      0s\n",
      "     116    8.6515384e+01   0.000000e+00   0.000000e+00      0s\n",
      "\n",
      "Solved in 116 iterations and 0.06 seconds\n",
      "Optimal objective  8.651538385e+01\n",
      "The runtime was 0.06833696365356445 seconds.\n"
     ]
    },
    {
     "data": {
      "text/plain": [
       "<gurobi.Model Continuous instance MTZ: 2452 constrs, 2499 vars, Parameter changes: TimeLimit=600.0>"
      ]
     },
     "execution_count": 29,
     "metadata": {},
     "output_type": "execute_result"
    }
   ],
   "source": [
    "Miller_Tucker_Zemlin_LR('TSP_instance_n_50_s_2.dat')"
   ]
  },
  {
   "cell_type": "markdown",
   "metadata": {},
   "source": [
    "The following are the Miller-Tucker-Zemlin formulation integer and Linear Relaxation solutions for two instances of size 70."
   ]
  },
  {
   "cell_type": "code",
   "execution_count": 30,
   "metadata": {},
   "outputs": [
    {
     "name": "stdout",
     "output_type": "stream",
     "text": [
      "Changed value of parameter TimeLimit to 600.0\n",
      "   Prev: inf  Min: 0.0  Max: inf  Default: inf\n",
      "Gurobi Optimizer version 9.0.3 build v9.0.3rc0 (mac64)\n",
      "Optimize a model with 4832 rows, 4899 columns and 23736 nonzeros\n",
      "Model fingerprint: 0x47b3c05f\n",
      "Variable types: 69 continuous, 4830 integer (4830 binary)\n",
      "Coefficient statistics:\n",
      "  Matrix range     [1e+00, 7e+01]\n",
      "  Objective range  [4e-01, 2e+01]\n",
      "  Bounds range     [1e+00, 1e+00]\n",
      "  RHS range        [1e+00, 7e+01]\n",
      "Presolve time: 0.05s\n",
      "Presolved: 4832 rows, 4899 columns, 23736 nonzeros\n",
      "Variable types: 69 continuous, 4830 integer (4830 binary)\n",
      "\n",
      "Root relaxation: objective 1.108201e+02, 240 iterations, 0.01 seconds\n",
      "\n",
      "    Nodes    |    Current Node    |     Objective Bounds      |     Work\n",
      " Expl Unexpl |  Obj  Depth IntInf | Incumbent    BestBd   Gap | It/Node Time\n",
      "\n",
      "     0     0  110.82006    0  110          -  110.82006      -     -    0s\n",
      "     0     0  125.43627    0  139          -  125.43627      -     -    0s\n",
      "     0     0  126.05365    0  137          -  126.05365      -     -    0s\n",
      "     0     0  126.05365    0  137          -  126.05365      -     -    0s\n",
      "     0     0  126.83894    0  143          -  126.83894      -     -    1s\n",
      "     0     0  126.94950    0  143          -  126.94950      -     -    1s\n",
      "     0     0  127.18119    0  128          -  127.18119      -     -    1s\n",
      "     0     0  127.31805    0  132          -  127.31805      -     -    1s\n",
      "     0     0  127.45035    0  132          -  127.45035      -     -    1s\n",
      "     0     0  127.45526    0  132          -  127.45526      -     -    1s\n",
      "     0     0  127.75399    0  120          -  127.75399      -     -    1s\n",
      "     0     0  127.79572    0  140          -  127.79572      -     -    1s\n",
      "     0     0  127.79572    0  140          -  127.79572      -     -    1s\n",
      "     0     0  127.79572    0  140          -  127.79572      -     -    1s\n",
      "     0     0  127.79572    0  140          -  127.79572      -     -    1s\n",
      "     0     0  127.79572    0  140          -  127.79572      -     -    2s\n",
      "     0     0  127.79572    0  134          -  127.79572      -     -    2s\n",
      "     0     2  127.79572    0  134          -  127.79572      -     -    3s\n",
      "   335   343  151.19145  160   41          -  127.80637      -   9.9    5s\n",
      "*  417   409             162     192.6864766  127.80637  33.7%   9.5    5s\n",
      "H  426   316                     163.2755968  127.80637  21.7%   9.4    8s\n",
      "H  430   293                     161.7134090  127.80637  21.0%   9.3    8s\n",
      "H  739   582                     161.6131463  127.80637  20.9%  10.5   10s\n",
      "   745   586  132.90835   32  136  161.61315  127.80637  20.9%  10.4   15s\n",
      "   759   596  135.03859  143  132  161.61315  128.97449  20.2%  10.2   20s\n",
      "   775   606  130.93930   19  131  161.61315  129.01924  20.2%  10.0   25s\n",
      "   790   617  142.52675  127  110  161.61315  129.02267  20.2%  17.7   30s\n",
      "   797   622  153.46335  105  150  161.61315  129.05529  20.1%  17.5   35s\n",
      "   806   628  141.11428  122  153  161.61315  129.16181  20.1%  17.3   40s\n",
      "H  835   618                     157.9770619  129.16181  18.2%  21.3   45s\n",
      "  1398  1014  130.65567  179   95  157.97706  129.16181  18.2%  28.4   50s\n",
      "  2251  1603  133.77117  433   98  157.97706  129.16181  18.2%  28.9   55s\n",
      "  3544  2784  134.74667  305  104  157.97706  129.16181  18.2%  25.6   60s\n",
      "H 3870  2708                     152.1015766  129.16181  15.1%  25.2   62s\n",
      "  4325  3303  132.54753  448   92  152.10158  129.16181  15.1%  24.2   65s\n",
      "* 4497  3108             202     149.9376300  129.16181  13.9%  23.8   65s\n",
      "H 5165  3597                     148.5289634  129.16181  13.0%  21.9   67s\n",
      "  6181  4611  134.50226  159  107  148.52896  129.16321  13.0%  20.2   70s\n",
      "H 6185  4507                     147.7171023  129.16321  12.6%  20.2   70s\n",
      "  7513  5842  131.70676  311  113  147.71710  129.18206  12.5%  18.4   75s\n",
      "  8459  6467  131.60477  158   39  147.71710  129.18607  12.5%  18.8   82s\n",
      "H 8475  1394                     133.1032622  129.18607  2.94%  18.9   82s\n",
      "  8751  1612  130.29918   54  102  133.10326  129.20383  2.93%  18.9   88s\n",
      "  9210  1942  131.43182   52   53  133.10326  129.23913  2.90%  18.9   90s\n",
      " 11108  3102  130.07246   45  139  133.10326  129.38308  2.79%  19.3   95s\n",
      " 12625  4045  132.81806   71   55  133.10326  129.46302  2.73%  19.9  100s\n",
      " 14302  4995  132.96800   64   78  133.10326  129.59116  2.64%  20.2  105s\n",
      " 14758  5084  132.58176   45  130  133.10326  129.60746  2.63%  20.3  110s\n",
      " 14781  5100  129.82356   44  123  133.10326  129.60746  2.63%  20.3  115s\n",
      " 14806  5116  130.73769   48  126  133.10326  129.60746  2.63%  20.2  120s\n",
      " 14809  5121  129.60746   40  140  133.10326  129.60746  2.63%  20.9  125s\n",
      "H14811  4867                     132.0641191  129.60746  1.86%  20.9  128s\n",
      "H14812  4621                     132.0641184  129.60746  1.86%  20.9  128s\n",
      " 14913  4685  129.94058   54  131  132.06412  129.60746  1.86%  21.2  130s\n",
      " 16226  4961  130.65697   58  133  132.06412  129.66921  1.81%  22.3  135s\n",
      " 18146  5197     cutoff   58       132.06412  129.82589  1.69%  23.8  140s\n",
      " 19409  5284  131.96098   62   59  132.06412  129.91846  1.62%  24.9  145s\n",
      " 21141  5257     cutoff   58       132.06412  130.07163  1.51%  25.9  151s\n",
      " 22573  5283     cutoff   58       132.06412  130.16585  1.44%  26.8  156s\n",
      " 23156  5222  131.78827   59  120  132.06412  130.19476  1.42%  27.0  160s\n",
      " 23165  5231  130.19476   51  164  132.06412  130.19476  1.42%  27.1  165s\n",
      "H23192  4988                     131.7866142  130.19476  1.21%  27.2  169s\n",
      " 23203  4991  130.19476   57  120  131.78661  130.19476  1.21%  27.2  170s\n",
      " 23576  5008  130.93121   76   69  131.78661  130.19476  1.21%  27.4  175s\n",
      " 24520  5019  131.31636   61   70  131.78661  130.19476  1.21%  27.8  180s\n",
      "*25153  4673             119     131.6000030  130.19476  1.07%  28.1  184s\n",
      " 25415  4633  130.85522   62  128  131.60000  130.27389  1.01%  28.1  185s\n",
      " 25533  4620 infeasible   63       131.60000  130.30640  0.98%  28.2  190s\n",
      " 26328  4530  131.10331   65  123  131.60000  130.47826  0.85%  28.4  215s\n",
      " 27725  4232  130.72852   99   16  131.60000  130.63586  0.73%  28.4  220s\n",
      "H28060  3888                     131.6000024  130.66840  0.71%  28.4  224s\n",
      "H28064  3452                     131.3224982  130.66840  0.50%  28.4  224s\n",
      " 28384  3338  131.19199   74   27  131.32250  130.71518  0.46%  28.4  225s\n",
      " 30918  2095  131.21567   75   33  131.32250  131.02903  0.22%  27.9  230s\n",
      "\n",
      "Cutting planes:\n",
      "  Learned: 35\n",
      "  Gomory: 23\n",
      "  Cover: 11\n",
      "  MIR: 14\n",
      "  Flow cover: 166\n",
      "  Inf proof: 32\n",
      "  Zero half: 51\n",
      "\n",
      "Explored 32092 nodes (886421 simplex iterations) in 231.61 seconds\n",
      "Thread count was 4 (of 4 available processors)\n",
      "\n",
      "Solution count 10: 131.322 131.6 131.787 ... 157.977\n",
      "\n",
      "Optimal solution found (tolerance 1.00e-04)\n",
      "Best objective 1.313224981523e+02, best bound 1.313224981523e+02, gap 0.0000%\n",
      "The runtime was 231.62898778915405 seconds.\n"
     ]
    },
    {
     "data": {
      "text/plain": [
       "<gurobi.Model MIP instance MTZ: 4832 constrs, 4899 vars, Parameter changes: TimeLimit=600.0>"
      ]
     },
     "execution_count": 30,
     "metadata": {},
     "output_type": "execute_result"
    }
   ],
   "source": [
    "Miller_Tucker_Zemlin('TSP_instance_n_70_s_1.dat')"
   ]
  },
  {
   "cell_type": "code",
   "execution_count": 31,
   "metadata": {},
   "outputs": [
    {
     "name": "stdout",
     "output_type": "stream",
     "text": [
      "Changed value of parameter TimeLimit to 600.0\n",
      "   Prev: inf  Min: 0.0  Max: inf  Default: inf\n",
      "Gurobi Optimizer version 9.0.3 build v9.0.3rc0 (mac64)\n",
      "Optimize a model with 4832 rows, 4899 columns and 23736 nonzeros\n",
      "Model fingerprint: 0x54f04233\n",
      "Coefficient statistics:\n",
      "  Matrix range     [1e+00, 7e+01]\n",
      "  Objective range  [4e-01, 2e+01]\n",
      "  Bounds range     [1e+00, 1e+00]\n",
      "  RHS range        [1e+00, 7e+01]\n",
      "Presolve removed 1 rows and 0 columns\n",
      "Presolve time: 0.04s\n",
      "Presolved: 4831 rows, 4899 columns, 23667 nonzeros\n",
      "\n",
      "Iteration    Objective       Primal Inf.    Dual Inf.      Time\n",
      "       0    8.4768870e-01   1.350000e+02   0.000000e+00      0s\n",
      "     265    1.1082006e+02   0.000000e+00   0.000000e+00      0s\n",
      "\n",
      "Solved in 265 iterations and 0.09 seconds\n",
      "Optimal objective  1.108200564e+02\n",
      "The runtime was 0.09696292877197266 seconds.\n"
     ]
    },
    {
     "data": {
      "text/plain": [
       "<gurobi.Model Continuous instance MTZ: 4832 constrs, 4899 vars, Parameter changes: TimeLimit=600.0>"
      ]
     },
     "execution_count": 31,
     "metadata": {},
     "output_type": "execute_result"
    }
   ],
   "source": [
    "Miller_Tucker_Zemlin_LR('TSP_instance_n_70_s_1.dat')"
   ]
  },
  {
   "cell_type": "code",
   "execution_count": 32,
   "metadata": {},
   "outputs": [
    {
     "name": "stdout",
     "output_type": "stream",
     "text": [
      "Changed value of parameter TimeLimit to 600.0\n",
      "   Prev: inf  Min: 0.0  Max: inf  Default: inf\n",
      "Gurobi Optimizer version 9.0.3 build v9.0.3rc0 (mac64)\n",
      "Optimize a model with 4832 rows, 4899 columns and 23736 nonzeros\n",
      "Model fingerprint: 0xc81d9236\n",
      "Variable types: 69 continuous, 4830 integer (4830 binary)\n",
      "Coefficient statistics:\n",
      "  Matrix range     [1e+00, 7e+01]\n",
      "  Objective range  [2e-01, 2e+01]\n",
      "  Bounds range     [1e+00, 1e+00]\n",
      "  RHS range        [1e+00, 7e+01]\n",
      "Presolve time: 0.04s\n",
      "Presolved: 4832 rows, 4899 columns, 23736 nonzeros\n",
      "Variable types: 69 continuous, 4830 integer (4830 binary)\n",
      "\n",
      "Root relaxation: objective 1.090040e+02, 256 iterations, 0.01 seconds\n",
      "\n",
      "    Nodes    |    Current Node    |     Objective Bounds      |     Work\n",
      " Expl Unexpl |  Obj  Depth IntInf | Incumbent    BestBd   Gap | It/Node Time\n",
      "\n",
      "     0     0  109.00401    0  130          -  109.00401      -     -    0s\n",
      "     0     0  126.97488    0  128          -  126.97488      -     -    1s\n",
      "     0     0  127.07923    0  131          -  127.07923      -     -    1s\n",
      "     0     0  127.07923    0  131          -  127.07923      -     -    2s\n",
      "     0     0  127.07923    0  128          -  127.07923      -     -    2s\n",
      "     0     0  127.07923    0  128          -  127.07923      -     -    2s\n",
      "     0     0  127.29563    0  128          -  127.29563      -     -    2s\n",
      "     0     0  127.41940    0  134          -  127.41940      -     -    2s\n",
      "     0     0  127.42216    0  118          -  127.42216      -     -    2s\n",
      "     0     0  127.44519    0  118          -  127.44519      -     -    3s\n",
      "     0     0  127.49730    0  111          -  127.49730      -     -    3s\n",
      "     0     0  127.49730    0  111          -  127.49730      -     -    3s\n",
      "     0     0  127.49730    0  111          -  127.49730      -     -    3s\n",
      "     0     0  127.75593    0  118          -  127.75593      -     -    3s\n",
      "     0     0  127.75593    0  118          -  127.75593      -     -    3s\n",
      "     0     0  127.75593    0  118          -  127.75593      -     -    3s\n",
      "     0     0  127.75593    0  118          -  127.75593      -     -    3s\n",
      "     0     0  127.75593    0  118          -  127.75593      -     -    3s\n",
      "     0     0  127.82404    0  134          -  127.82404      -     -    3s\n",
      "     0     0  127.82404    0  134          -  127.82404      -     -    3s\n",
      "     0     0  127.82404    0  134          -  127.82404      -     -    3s\n",
      "     0     0  127.82404    0  134          -  127.82404      -     -    4s\n",
      "     0     2  127.82404    0  134          -  127.82404      -     -    5s\n",
      "*  374   367             152     205.5033388  127.82854  37.8%  11.4    7s\n",
      "H  388   307                     171.1886262  127.82854  25.3%  11.4    9s\n",
      "   390   328     cutoff  151       171.18863  127.83026  25.3%  11.3   10s\n",
      "   756   661  147.11007  109  130  171.18863  127.83026  25.3%  10.4   19s\n",
      "   757   662  138.80981   72  116  171.18863  127.83026  25.3%  10.4   23s\n",
      "   761   665  130.84744   44  114  171.18863  128.45883  25.0%  10.3   26s\n",
      "   772   672  141.20461   84   77  171.18863  130.12833  24.0%  10.2   30s\n",
      "   786   681  144.43617  101  129  171.18863  130.20438  23.9%  10.0   35s\n",
      "   797   689  131.44937   68  100  171.18863  130.21502  23.9%   9.9   40s\n",
      "   814   701  146.94341   66  130  171.18863  130.21743  23.9%  20.7   49s\n",
      "H  814   665                     164.3925927  130.21743  20.8%  20.7   53s\n",
      "   822   671  164.39259  125  160  164.39259  130.24800  20.8%  20.5   55s\n",
      "   840   684  130.27954   17  130  164.39259  130.27954  20.8%  23.4   65s\n",
      "   845   688  130.27954    9  141  164.39259  130.27954  20.8%  23.3   70s\n",
      "   858   696  132.01912   57  101  164.39259  130.28844  20.7%  23.0   75s\n",
      "   869   704  130.29679   29  142  164.39259  130.29679  20.7%  22.7   80s\n",
      "   879   710  148.79152  176  160  164.39259  130.65580  20.5%  22.4   87s\n",
      "  1028   817  134.68877   84   63  164.39259  130.65580  20.5%  29.7   90s\n",
      "H 1095   816                     150.9718284  130.65580  13.5%  29.7   91s\n",
      "  1597  1118  135.82485  253   76  150.97183  130.65580  13.5%  30.5   97s\n",
      "H 1612  1079                     150.9376999  130.65580  13.4%  30.4   97s\n",
      "H 1624   517                     136.7980575  130.65580  4.49%  30.4   97s\n",
      "  2205   819  131.06935  145  125  136.79806  130.70878  4.45%  27.4  100s\n",
      "* 2600   957             116     136.0067539  130.71035  3.89%  24.6  101s\n",
      "  3975  2319  130.85868   64   24  136.00675  130.72399  3.88%  19.2  105s\n",
      "  6294  4281  132.66698   66   65  136.00675  130.72887  3.88%  15.7  110s\n",
      "  7344  4957  134.83094  159  159  136.00675  130.74360  3.87%  15.8  115s\n",
      "H 7346  4710                     134.3350586  130.74360  2.67%  15.8  115s\n",
      "  7363  4722  134.00916  156  157  134.33506  130.74360  2.67%  16.1  120s\n",
      "  7372  4728  132.91139   68  157  134.33506  130.74360  2.67%  16.1  129s\n",
      "  7379  4737  130.74360   72  152  134.33506  130.74360  2.67%  16.5  130s\n",
      "H 7406  4512                     134.3350565  130.74360  2.67%  16.6  131s\n",
      "H 7447  4303                     134.3350543  130.79835  2.63%  16.6  132s\n",
      "H 7706  4234                     134.3350523  130.79835  2.63%  16.7  136s\n",
      "H 7708  4028                     134.3085735  130.79835  2.61%  16.7  136s\n",
      "  8275  4378  131.17964  253   46  134.30857  130.79835  2.61%  16.4  140s\n",
      "  9448  4956  131.60092  155   29  134.30857  130.81211  2.60%  15.7  145s\n",
      "H 9449  4325                     133.1643374  130.81211  1.77%  15.7  145s\n",
      " 11284  5236  131.30003  104   18  133.16434  130.83371  1.75%  15.5  150s\n",
      " 14096  6364  131.30545  121   58  133.16434  130.85918  1.73%  15.0  155s\n",
      " 16584  7643  131.01854   86  144  133.16434  130.87152  1.72%  14.8  160s\n",
      " 17798  7675  131.81932  108   72  133.16434  130.87545  1.72%  14.7  165s\n",
      " 17819  7689  131.67338   99  136  133.16434  130.87545  1.72%  14.6  170s\n",
      " 17823  7695  130.87545   83  154  133.16434  130.87545  1.72%  14.9  176s\n",
      " 17881  7708  130.87545   92  148  133.16434  130.87545  1.72%  15.0  180s\n",
      " 18258  7873  132.33506   97  128  133.16434  130.87545  1.72%  15.3  185s\n",
      " 19811  8565  131.50041   93   75  133.16434  130.87545  1.72%  15.2  190s\n",
      " 21847  9478     cutoff   97       133.16434  130.89072  1.71%  15.4  195s\n",
      " 23580 10010  131.68885  128  106  133.16434  130.91086  1.69%  15.8  200s\n",
      " 26410 11089  131.40966   99   11  133.16434  130.94026  1.67%  15.9  205s\n",
      " 29420 12419  131.98820  245   19  133.16434  130.96560  1.65%  15.9  210s\n",
      " 32274 13770  131.23198  133  116  133.16434  130.98379  1.64%  15.4  215s\n",
      "*32672 13234             245     133.1448937  130.98418  1.62%  15.3  215s\n",
      " 35731 14202     cutoff  185       133.14489  130.99556  1.61%  15.0  220s\n",
      "*36399 13622             226     132.9895780  130.99829  1.50%  15.0  221s\n",
      "*36777 11386             190     132.5115989  131.00104  1.14%  15.0  222s\n",
      "H38431 11141                     132.4465289  131.01895  1.08%  15.0  225s\n",
      " 38447 11152  132.37311   97  136  132.44653  131.01895  1.08%  14.9  230s\n",
      " 38471 11168  132.35389  123  169  132.44653  131.01895  1.08%  14.9  235s\n",
      " 38496 11185  132.28768  259  185  132.44653  131.01895  1.08%  14.9  240s\n",
      " 38508 11198  131.01895   98  166  132.44653  131.01895  1.08%  15.1  246s\n",
      " 38573 11217  131.01901  108  101  132.44653  131.01895  1.08%  15.2  250s\n",
      " 39253 11396  131.11800  108  126  132.44653  131.01895  1.08%  15.3  255s\n",
      " 41227 12096  131.18219  159   20  132.44653  131.01895  1.08%  15.3  260s\n",
      " 44326 13350  131.44475  127   20  132.44653  131.01895  1.08%  15.3  265s\n",
      " 46646 13930  132.28613  123   21  132.44653  131.01895  1.08%  15.2  270s\n",
      " 49150 14397  131.29488  174  134  132.44653  131.01895  1.08%  15.2  294s\n",
      " 49154 14400  131.04418  123  136  132.44653  131.01895  1.08%  15.2  295s\n",
      " 49167 14408  131.56273  139  185  132.44653  131.01895  1.08%  15.2  300s\n",
      " 49175 14414  131.24558  128  185  132.44653  131.01895  1.08%  15.2  305s\n",
      " 49180 14422  131.01895  112  175  132.44653  131.01895  1.08%  15.2  311s\n",
      " 49321 14459  131.01895  124  161  132.44653  131.01895  1.08%  15.3  315s\n",
      " 50108 14687  131.02151  134   30  132.44653  131.01895  1.08%  15.4  320s\n",
      " 52800 15635  131.65203  133   66  132.44653  131.01895  1.08%  15.5  326s\n",
      "*54287 14677             203     132.0393228  131.01895  0.77%  15.6  328s\n",
      " 54933 14819  131.01895  126  136  132.03932  131.01895  0.77%  15.6  330s\n"
     ]
    },
    {
     "name": "stdout",
     "output_type": "stream",
     "text": [
      " 57268 15004     cutoff  128       132.03932  131.02368  0.77%  15.9  335s\n",
      " 59657 15169  131.46443  152  134  132.03932  131.06175  0.74%  16.0  341s\n",
      " 59669 15177  131.39496  134  188  132.03932  131.06175  0.74%  16.0  345s\n",
      " 59681 15185  131.90657  127  175  132.03932  131.06175  0.74%  16.0  350s\n",
      " 59690 15191  131.53473  145  175  132.03932  131.06175  0.74%  16.0  355s\n",
      " 59697 15196  131.87603  120  192  132.03932  131.06175  0.74%  16.0  360s\n",
      " 59705 15201  131.50418  146   91  132.03932  131.06175  0.74%  16.0  365s\n",
      " 59715 15208  131.51365  136  177  132.03932  131.06175  0.74%  16.0  370s\n",
      " 59721 15212  131.49463  139  178  132.03932  131.06175  0.74%  15.9  375s\n",
      " 59727 15216  131.66679  153  179  132.03932  131.06175  0.74%  15.9  380s\n",
      " 59733 15220  131.41200  169  175  132.03932  131.06175  0.74%  15.9  385s\n",
      " 59738 15223  131.81115  133  179  132.03932  131.06175  0.74%  15.9  390s\n",
      " 59744 15227  131.42038  121  178  132.03932  131.06175  0.74%  15.9  395s\n",
      " 59748 15230  131.78288  141  176  132.03932  131.06175  0.74%  15.9  400s\n",
      " 59753 15238  131.06175  125  118  132.03932  131.06175  0.74%  16.1  406s\n",
      " 59765 15244  131.06175  127  128  132.03932  131.06175  0.74%  16.1  410s\n",
      " 59942 15298  131.06175  149   22  132.03932  131.06175  0.74%  16.1  415s\n",
      " 60585 15429  131.34130  138   12  132.03932  131.06175  0.74%  16.2  420s\n",
      " 61591 15642  131.29544  139   82  132.03932  131.06175  0.74%  16.2  425s\n",
      " 63407 16088  131.37157  138   46  132.03932  131.06338  0.74%  16.3  430s\n",
      " 65100 16365  131.51491  145   56  132.03932  131.10836  0.71%  16.4  435s\n",
      " 67418 16980  131.55601  144   50  132.03932  131.16135  0.66%  16.4  440s\n",
      " 69442 17121  131.65135  145   45  132.03932  131.19428  0.64%  16.3  445s\n",
      " 71801 17455     cutoff  145       132.03932  131.22494  0.62%  16.4  450s\n",
      " 72908 17368     cutoff  142       132.03932  131.24058  0.60%  16.4  455s\n",
      " 75139 17604  131.56279  138   20  132.03932  131.25809  0.59%  16.4  460s\n",
      " 77780 17486  131.75835  143   24  132.03932  131.29109  0.57%  16.4  465s\n",
      " 80448 17326  131.46145  142  130  132.03932  131.32460  0.54%  16.5  470s\n",
      " 82834 16865  131.81480  148   38  132.03932  131.34656  0.52%  16.5  475s\n",
      " 85482 16472  131.49200  131   82  132.03932  131.38182  0.50%  16.6  481s\n",
      " 87851 15837  131.83122  148   41  132.03932  131.40845  0.48%  16.6  485s\n",
      " 90046 15359  131.65531  169   14  132.03932  131.43653  0.46%  16.7  490s\n",
      " 92218 14823  131.59325  150    6  132.03932  131.45775  0.44%  16.8  495s\n",
      " 94943 14046     cutoff  155       132.03932  131.48547  0.42%  16.8  500s\n",
      " 97247 13338     cutoff  150       132.03932  131.51249  0.40%  16.8  505s\n",
      " 99289 12443  131.67083  143   31  132.03932  131.53387  0.38%  16.8  510s\n",
      " 101176 11831  131.80262  143   46  132.03932  131.55388  0.37%  16.9  515s\n",
      " 103160 11063     cutoff  148       132.03932  131.57329  0.35%  16.9  520s\n",
      " 104848 10319  131.62631  142    6  132.03932  131.58949  0.34%  16.9  525s\n",
      " 106700  9867     cutoff  179       132.03932  131.60969  0.33%  16.9  530s\n",
      " 109206  9371     cutoff  183       132.03932  131.63440  0.31%  16.9  536s\n",
      " 111296  8828     cutoff  147       132.03932  131.65676  0.29%  16.9  540s\n",
      " 114105  7742     cutoff  166       132.03932  131.68996  0.26%  16.9  546s\n",
      " 116195  6872     cutoff  143       132.03932  131.71578  0.25%  17.0  550s\n",
      " 119392  5183     cutoff  187       132.03932  131.77084  0.20%  17.0  556s\n",
      " 121854  3412  131.88935  139   37  132.03932  131.82860  0.16%  16.9  560s\n",
      " 125128   958     cutoff  169       132.03932  131.92907  0.08%  16.9  566s\n",
      "\n",
      "Cutting planes:\n",
      "  Learned: 36\n",
      "  Gomory: 33\n",
      "  Cover: 64\n",
      "  MIR: 32\n",
      "  Flow cover: 264\n",
      "  Inf proof: 38\n",
      "  Zero half: 58\n",
      "  RLT: 3\n",
      "\n",
      "Explored 126939 nodes (2131295 simplex iterations) in 567.60 seconds\n",
      "Thread count was 4 (of 4 available processors)\n",
      "\n",
      "Solution count 10: 132.039 132.447 132.512 ... 136.798\n",
      "\n",
      "Optimal solution found (tolerance 1.00e-04)\n",
      "Best objective 1.320393228220e+02, best bound 1.320393228220e+02, gap 0.0000%\n",
      "The runtime was 567.627580165863 seconds.\n"
     ]
    },
    {
     "data": {
      "text/plain": [
       "<gurobi.Model MIP instance MTZ: 4832 constrs, 4899 vars, Parameter changes: TimeLimit=600.0>"
      ]
     },
     "execution_count": 32,
     "metadata": {},
     "output_type": "execute_result"
    }
   ],
   "source": [
    "Miller_Tucker_Zemlin('TSP_instance_n_70_s_2.dat')"
   ]
  },
  {
   "cell_type": "code",
   "execution_count": 33,
   "metadata": {},
   "outputs": [
    {
     "name": "stdout",
     "output_type": "stream",
     "text": [
      "Changed value of parameter TimeLimit to 600.0\n",
      "   Prev: inf  Min: 0.0  Max: inf  Default: inf\n",
      "Gurobi Optimizer version 9.0.3 build v9.0.3rc0 (mac64)\n",
      "Optimize a model with 4832 rows, 4899 columns and 23736 nonzeros\n",
      "Model fingerprint: 0x403b6578\n",
      "Coefficient statistics:\n",
      "  Matrix range     [1e+00, 7e+01]\n",
      "  Objective range  [2e-01, 2e+01]\n",
      "  Bounds range     [1e+00, 1e+00]\n",
      "  RHS range        [1e+00, 7e+01]\n",
      "Presolve removed 1 rows and 0 columns\n",
      "Presolve time: 0.05s\n",
      "Presolved: 4831 rows, 4899 columns, 23667 nonzeros\n",
      "\n",
      "Iteration    Objective       Primal Inf.    Dual Inf.      Time\n",
      "       0    8.7459361e-01   1.350000e+02   0.000000e+00      0s\n",
      "     306    1.0900401e+02   0.000000e+00   0.000000e+00      0s\n",
      "\n",
      "Solved in 306 iterations and 0.09 seconds\n",
      "Optimal objective  1.090040080e+02\n",
      "The runtime was 0.09775996208190918 seconds.\n"
     ]
    },
    {
     "data": {
      "text/plain": [
       "<gurobi.Model Continuous instance MTZ: 4832 constrs, 4899 vars, Parameter changes: TimeLimit=600.0>"
      ]
     },
     "execution_count": 33,
     "metadata": {},
     "output_type": "execute_result"
    }
   ],
   "source": [
    "Miller_Tucker_Zemlin_LR('TSP_instance_n_70_s_2.dat')"
   ]
  },
  {
   "cell_type": "code",
   "execution_count": null,
   "metadata": {},
   "outputs": [],
   "source": []
  }
 ],
 "metadata": {
  "kernelspec": {
   "display_name": "Python 3",
   "language": "python",
   "name": "python3"
  },
  "language_info": {
   "codemirror_mode": {
    "name": "ipython",
    "version": 3
   },
   "file_extension": ".py",
   "mimetype": "text/x-python",
   "name": "python",
   "nbconvert_exporter": "python",
   "pygments_lexer": "ipython3",
   "version": "3.7.6"
  }
 },
 "nbformat": 4,
 "nbformat_minor": 4
}
