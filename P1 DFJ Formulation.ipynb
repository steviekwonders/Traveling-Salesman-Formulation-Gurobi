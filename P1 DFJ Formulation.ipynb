{
 "cells": [
  {
   "cell_type": "code",
   "execution_count": 2,
   "metadata": {},
   "outputs": [],
   "source": [
    "from gurobipy import *\n",
    "import pandas as pd\n",
    "import numpy as np\n",
    "import math\n",
    "from itertools import combinations,product"
   ]
  },
  {
   "cell_type": "markdown",
   "metadata": {},
   "source": [
    "In this notebook, we will use the DFJ formulation with subtour cuts to output the optimal tour.  "
   ]
  },
  {
   "cell_type": "code",
   "execution_count": 3,
   "metadata": {},
   "outputs": [],
   "source": [
    "# Function will convert our datfile of x,y coordinates into dataframe: vertices\n",
    "def TSP_vertices(file_name):\n",
    "    data  = open(file_name, 'r')\n",
    "    lines = data.readlines()[1:]\n",
    "    x = []\n",
    "    y = []\n",
    "    for line in lines:\n",
    "        p = line.split()\n",
    "        x.append(float(p[0]))\n",
    "        y.append(float(p[1]))\n",
    "    data.close()\n",
    "    # Transform into dataframe\n",
    "    vertices = pd.DataFrame({'x':x, 'y':y})\n",
    "    \n",
    "    return vertices"
   ]
  },
  {
   "cell_type": "code",
   "execution_count": 4,
   "metadata": {},
   "outputs": [],
   "source": [
    "# Will convert Euclidean distance for our coordinates as cost components for model\n",
    "def euclideanDistMatrix(TSP):\n",
    "    euclidean_cost = []\n",
    "    for i in range(len(TSP)):\n",
    "        row_distances = []\n",
    "        for j in range(len(TSP)):\n",
    "            row_distances.append(math.sqrt( (TSP['x'][i]-TSP['x'][j])**2 + (TSP['y'][i]-TSP['y'][j])**2 ))\n",
    "        euclidean_cost.append(row_distances)\n",
    "    return euclidean_cost  "
   ]
  },
  {
   "cell_type": "code",
   "execution_count": 1,
   "metadata": {},
   "outputs": [],
   "source": [
    "### This function will be called from the main DFJ function. It will create the subour constraints as need be.\n",
    "def subtourelim(model, where):\n",
    "    if where == GRB.Callback.MIPSOL:\n",
    "        # make a list of edges selected in the solution\n",
    "        vals = model.cbGetSolution(model._vars)\n",
    "        selected = tuplelist((i, j) for i, j in model._vars.keys()\n",
    "                                if vals[i, j] > 0.5)\n",
    "        # find the shortest cycle in the selected edge list\n",
    "        tour = subtour(selected)\n",
    "        if len(tour) < len(selected)//2:\n",
    "            # add subtour elimination constr. for every pair of cities in tour\n",
    "            model.cbLazy(quicksum(model._vars[i, j]\n",
    "                                     for i, j in combinations(tour, 2))\n",
    "                         <= len(tour)-1)"
   ]
  },
  {
   "cell_type": "code",
   "execution_count": 2,
   "metadata": {},
   "outputs": [],
   "source": [
    "### This function will be called by subtourlim() to find the shortest subtour.\n",
    "def subtour(edges):\n",
    "    unvisited = list(range(len(edges)//2))\n",
    "    cycle = range(len(edges)//2 + 1)  # initial length has 1 more city\n",
    "    while unvisited:  # true if list is non-empty\n",
    "        thiscycle = []\n",
    "        neighbors = unvisited\n",
    "        while neighbors:\n",
    "            current = neighbors[0]\n",
    "            thiscycle.append(current)\n",
    "            unvisited.remove(current)\n",
    "            neighbors = [j for i, j in edges.select(current, '*')\n",
    "                         if j in unvisited]\n",
    "        if len(cycle) > len(thiscycle):\n",
    "            cycle = thiscycle\n",
    "    return cycle"
   ]
  },
  {
   "cell_type": "code",
   "execution_count": 3,
   "metadata": {},
   "outputs": [],
   "source": [
    "### Function for the Dantzig Fulkerson and Johnson Formulation\n",
    "\n",
    "def DFJ_Formulation(file_name):\n",
    "    # Set up the model\n",
    "    model = Model('DFJ')\n",
    "    \n",
    "    # Read in file name through function TSP_vertices and use euclideanDistMatrix to calculate all i to j traverse costs\n",
    "    DFJvertices = TSP_vertices(file_name)\n",
    "    cost = euclideanDistMatrix(DFJvertices)\n",
    "\n",
    "    # Put all the vertices in a list: V\n",
    "    V = []\n",
    "    for i in range(len(DFJvertices)):\n",
    "        V.append(i)\n",
    "\n",
    "    # the dist dictionary has the arcs and their costs\n",
    "    dist = {(v1, v2): cost[v1][v2] for v1, v2 in product(V, V) if v1 != v2}\n",
    "\n",
    "    # Set up the decision variable and objective function\n",
    "    vars = model.addVars(dist.keys(), obj=dist, vtype=GRB.BINARY, name='e')\n",
    "    model.modelSense = GRB.MINIMIZE\n",
    "    model.setObjective(quicksum(vars[i,j]*cost[i][j] for i in V for j in V if i != j))\n",
    "\n",
    "    # Constraint 1: Ensuring the costs of traversing is symmetric\n",
    "    for i, j in vars.keys():\n",
    "        vars[j, i] = vars[i, j]\n",
    "\n",
    "    # Constraint 2: Degree of two for each vertex\n",
    "    model.addConstrs(vars.sum(i, '*') == 2 for i in range(len(V)))\n",
    "\n",
    "    # Solve for optimal solution with the function subtourelim called if solution contains subtours. \n",
    "    model._vars = vars\n",
    "    model.Params.lazyConstraints = 1\n",
    "    model.Params.TimeLimit = 600\n",
    "    model.optimize(subtourelim)\n",
    "    \n",
    "    print('The runtime was', model.Runtime, 'seconds.')\n",
    "    \n",
    "    ### UNCOMMENT LINE BELOW if you want to save a file of the formulation. Open with Microsoft Word.\n",
    "    model.write('DFJ.lp')"
   ]
  },
  {
   "cell_type": "code",
   "execution_count": 7,
   "metadata": {},
   "outputs": [],
   "source": [
    "### Function for the Linear Relaxation of the Dantzig Fulkerson and Johnson Formulation\n",
    "\n",
    "def DFJ_Formulation_LR(file_name):\n",
    "    # Set up the model\n",
    "    model = Model('DFJ_LR')\n",
    "    \n",
    "    # Read in file name through function TSP_vertices and use euclideanDistMatrix to calculate all i to j traverse costs\n",
    "    DFJvertices = TSP_vertices(file_name)\n",
    "    cost = euclideanDistMatrix(DFJvertices)\n",
    "\n",
    "    # Put all the vertices in a list: V\n",
    "    V = []\n",
    "    for i in range(len(DFJvertices)):\n",
    "        V.append(i)\n",
    "\n",
    "    # the dist dictionary has the arcs and their costs\n",
    "    dist = {(v1, v2): cost[v1][v2] for v1, v2 in product(V, V) if v1 != v2}\n",
    "\n",
    "    # Set up the decision variable and objective function\n",
    "    vars = model.addVars(dist.keys(), obj=dist, lb=0, ub=1, vtype=GRB.CONTINUOUS, name='e')\n",
    "    model.modelSense = GRB.MINIMIZE\n",
    "    model.setObjective(quicksum(vars[i,j]*cost[i][j] for i in V for j in V if i != j))\n",
    "\n",
    "    # Constraint 1: Ensuring the costs of traversing is symmetric\n",
    "    for i, j in vars.keys():\n",
    "        vars[j, i] = vars[i, j]\n",
    "\n",
    "    # Constraint 2: Degree of two for each vertex\n",
    "    model.addConstrs(vars.sum(i, '*') == 2 for i in range(len(V)))\n",
    "\n",
    "    # Solve for optimal solution with the function subtourelim called if solution contains subtours. \n",
    "    model._vars = vars\n",
    "    model.Params.lazyConstraints = 1\n",
    "    model.Params.TimeLimit = 600\n",
    "    model.optimize(subtourelim)\n",
    "    \n",
    "    print('The runtime was', model.Runtime, 'seconds.')\n",
    "    \n",
    "    ### UNCOMMENT LINE BELOW if you want to save a file of the formulation. Open with Microsoft Word.\n",
    "    # model.write('DFJ_LR.lp')"
   ]
  },
  {
   "cell_type": "markdown",
   "metadata": {},
   "source": [
    "The following are the DFJ formulation integer and Linear Relaxation solutions for two instances of size 15."
   ]
  },
  {
   "cell_type": "code",
   "execution_count": 8,
   "metadata": {},
   "outputs": [
    {
     "name": "stdout",
     "output_type": "stream",
     "text": [
      "Using license file /Users/student/gurobi.lic\n",
      "Academic license - for non-commercial use only\n",
      "Changed value of parameter lazyConstraints to 1\n",
      "   Prev: 0  Min: 0  Max: 1  Default: 0\n",
      "Changed value of parameter TimeLimit to 600.0\n",
      "   Prev: inf  Min: 0.0  Max: inf  Default: inf\n",
      "Gurobi Optimizer version 9.0.3 build v9.0.3rc0 (mac64)\n",
      "Optimize a model with 15 rows, 210 columns and 210 nonzeros\n",
      "Model fingerprint: 0x008cce47\n",
      "Variable types: 0 continuous, 210 integer (210 binary)\n",
      "Coefficient statistics:\n",
      "  Matrix range     [1e+00, 1e+00]\n",
      "  Objective range  [2e+00, 2e+01]\n",
      "  Bounds range     [1e+00, 1e+00]\n",
      "  RHS range        [2e+00, 2e+00]\n",
      "Presolve time: 0.00s\n",
      "Presolved: 15 rows, 210 columns, 210 nonzeros\n",
      "Variable types: 0 continuous, 210 integer (210 binary)\n",
      "\n",
      "Root relaxation: objective 6.155745e+01, 25 iterations, 0.00 seconds\n",
      "\n",
      "    Nodes    |    Current Node    |     Objective Bounds      |     Work\n",
      " Expl Unexpl |  Obj  Depth IntInf | Incumbent    BestBd   Gap | It/Node Time\n",
      "\n",
      "*    0     0               0      65.1316120   65.13161  0.00%     -    0s\n",
      "\n",
      "Cutting planes:\n",
      "  Lazy constraints: 5\n",
      "\n",
      "Explored 0 nodes (34 simplex iterations) in 0.08 seconds\n",
      "Thread count was 4 (of 4 available processors)\n",
      "\n",
      "Solution count 1: 65.1316 \n",
      "\n",
      "Optimal solution found (tolerance 1.00e-04)\n",
      "Best objective 6.513161197361e+01, best bound 6.513161197361e+01, gap 0.0000%\n",
      "\n",
      "User-callback calls 54, time in user-callback 0.01 sec\n",
      "The runtime was 0.1125340461730957 seconds.\n"
     ]
    }
   ],
   "source": [
    "DFJ_Formulation('TSP_instance_n_15_s_1.dat')"
   ]
  },
  {
   "cell_type": "code",
   "execution_count": 9,
   "metadata": {},
   "outputs": [
    {
     "name": "stdout",
     "output_type": "stream",
     "text": [
      "Changed value of parameter lazyConstraints to 1\n",
      "   Prev: 0  Min: 0  Max: 1  Default: 0\n",
      "Changed value of parameter TimeLimit to 600.0\n",
      "   Prev: inf  Min: 0.0  Max: inf  Default: inf\n",
      "Gurobi Optimizer version 9.0.3 build v9.0.3rc0 (mac64)\n",
      "Optimize a model with 15 rows, 210 columns and 210 nonzeros\n",
      "Model fingerprint: 0x84e23b97\n",
      "Coefficient statistics:\n",
      "  Matrix range     [1e+00, 1e+00]\n",
      "  Objective range  [2e+00, 2e+01]\n",
      "  Bounds range     [1e+00, 1e+00]\n",
      "  RHS range        [2e+00, 2e+00]\n",
      "Presolve time: 0.01s\n",
      "Presolved: 15 rows, 210 columns, 210 nonzeros\n",
      "\n",
      "Iteration    Objective       Primal Inf.    Dual Inf.      Time\n",
      "       0    3.8305327e+00   2.700000e+01   0.000000e+00      0s\n",
      "      20    6.0360068e+01   0.000000e+00   0.000000e+00      0s\n",
      "\n",
      "Solved in 20 iterations and 0.04 seconds\n",
      "Optimal objective  6.036006804e+01\n",
      "\n",
      "User-callback calls 45, time in user-callback 0.00 sec\n",
      "The runtime was 0.046627044677734375 seconds.\n"
     ]
    }
   ],
   "source": [
    "DFJ_Formulation_LR('TSP_instance_n_15_s_1.dat')"
   ]
  },
  {
   "cell_type": "code",
   "execution_count": 10,
   "metadata": {},
   "outputs": [
    {
     "name": "stdout",
     "output_type": "stream",
     "text": [
      "Changed value of parameter lazyConstraints to 1\n",
      "   Prev: 0  Min: 0  Max: 1  Default: 0\n",
      "Changed value of parameter TimeLimit to 600.0\n",
      "   Prev: inf  Min: 0.0  Max: inf  Default: inf\n",
      "Gurobi Optimizer version 9.0.3 build v9.0.3rc0 (mac64)\n",
      "Optimize a model with 15 rows, 210 columns and 210 nonzeros\n",
      "Model fingerprint: 0x61fbb405\n",
      "Variable types: 0 continuous, 210 integer (210 binary)\n",
      "Coefficient statistics:\n",
      "  Matrix range     [1e+00, 1e+00]\n",
      "  Objective range  [8e-01, 2e+01]\n",
      "  Bounds range     [1e+00, 1e+00]\n",
      "  RHS range        [2e+00, 2e+00]\n",
      "Presolve time: 0.00s\n",
      "Presolved: 15 rows, 210 columns, 210 nonzeros\n",
      "Variable types: 0 continuous, 210 integer (210 binary)\n",
      "\n",
      "Root relaxation: objective 6.322129e+01, 15 iterations, 0.00 seconds\n",
      "\n",
      "    Nodes    |    Current Node    |     Objective Bounds      |     Work\n",
      " Expl Unexpl |  Obj  Depth IntInf | Incumbent    BestBd   Gap | It/Node Time\n",
      "\n",
      "     0     0   67.51179    0    6          -   67.51179      -     -    0s\n",
      "*    0     0               0      71.8241704   71.82417  0.00%     -    0s\n",
      "\n",
      "Cutting planes:\n",
      "  Zero half: 2\n",
      "  Lazy constraints: 8\n",
      "\n",
      "Explored 1 nodes (26 simplex iterations) in 0.07 seconds\n",
      "Thread count was 4 (of 4 available processors)\n",
      "\n",
      "Solution count 1: 71.8242 \n",
      "\n",
      "Optimal solution found (tolerance 1.00e-04)\n",
      "Best objective 7.182417038505e+01, best bound 7.182417038505e+01, gap 0.0000%\n",
      "\n",
      "User-callback calls 66, time in user-callback 0.02 sec\n",
      "The runtime was 0.09349894523620605 seconds.\n"
     ]
    }
   ],
   "source": [
    "DFJ_Formulation('TSP_instance_n_15_s_2.dat')"
   ]
  },
  {
   "cell_type": "code",
   "execution_count": 11,
   "metadata": {},
   "outputs": [
    {
     "name": "stdout",
     "output_type": "stream",
     "text": [
      "Changed value of parameter lazyConstraints to 1\n",
      "   Prev: 0  Min: 0  Max: 1  Default: 0\n",
      "Changed value of parameter TimeLimit to 600.0\n",
      "   Prev: inf  Min: 0.0  Max: inf  Default: inf\n",
      "Gurobi Optimizer version 9.0.3 build v9.0.3rc0 (mac64)\n",
      "Optimize a model with 15 rows, 210 columns and 210 nonzeros\n",
      "Model fingerprint: 0x306d13a4\n",
      "Coefficient statistics:\n",
      "  Matrix range     [1e+00, 1e+00]\n",
      "  Objective range  [8e-01, 2e+01]\n",
      "  Bounds range     [1e+00, 1e+00]\n",
      "  RHS range        [2e+00, 2e+00]\n",
      "Presolve time: 0.01s\n",
      "Presolved: 15 rows, 210 columns, 210 nonzeros\n",
      "\n",
      "Iteration    Objective       Primal Inf.    Dual Inf.      Time\n",
      "       0    5.0155205e+00   2.700000e+01   0.000000e+00      0s\n",
      "      15    6.3221287e+01   0.000000e+00   0.000000e+00      0s\n",
      "\n",
      "Solved in 15 iterations and 0.08 seconds\n",
      "Optimal objective  6.322128723e+01\n",
      "\n",
      "User-callback calls 40, time in user-callback 0.00 sec\n",
      "The runtime was 0.09090900421142578 seconds.\n"
     ]
    }
   ],
   "source": [
    "DFJ_Formulation_LR('TSP_instance_n_15_s_2.dat')"
   ]
  },
  {
   "cell_type": "markdown",
   "metadata": {},
   "source": [
    "The following are the DFJ formulation integer and Linear Relaxation solutions for two instances of size 20."
   ]
  },
  {
   "cell_type": "code",
   "execution_count": 12,
   "metadata": {},
   "outputs": [
    {
     "name": "stdout",
     "output_type": "stream",
     "text": [
      "Changed value of parameter lazyConstraints to 1\n",
      "   Prev: 0  Min: 0  Max: 1  Default: 0\n",
      "Changed value of parameter TimeLimit to 600.0\n",
      "   Prev: inf  Min: 0.0  Max: inf  Default: inf\n",
      "Gurobi Optimizer version 9.0.3 build v9.0.3rc0 (mac64)\n",
      "Optimize a model with 20 rows, 380 columns and 380 nonzeros\n",
      "Model fingerprint: 0x01d3b778\n",
      "Variable types: 0 continuous, 380 integer (380 binary)\n",
      "Coefficient statistics:\n",
      "  Matrix range     [1e+00, 1e+00]\n",
      "  Objective range  [4e-01, 2e+01]\n",
      "  Bounds range     [1e+00, 1e+00]\n",
      "  RHS range        [2e+00, 2e+00]\n",
      "Presolve time: 0.00s\n",
      "Presolved: 20 rows, 380 columns, 380 nonzeros\n",
      "Variable types: 0 continuous, 380 integer (380 binary)\n",
      "\n",
      "Root relaxation: objective 6.268073e+01, 29 iterations, 0.00 seconds\n",
      "\n",
      "    Nodes    |    Current Node    |     Objective Bounds      |     Work\n",
      " Expl Unexpl |  Obj  Depth IntInf | Incumbent    BestBd   Gap | It/Node Time\n",
      "\n",
      "     0     0   62.68073    0    6          -   62.68073      -     -    0s\n",
      "     0     0   67.26897    0    6          -   67.26897      -     -    0s\n",
      "*    0     0               0      68.3774979   68.37750  0.00%     -    0s\n",
      "\n",
      "Cutting planes:\n",
      "  Zero half: 3\n",
      "  Lazy constraints: 8\n",
      "\n",
      "Explored 1 nodes (54 simplex iterations) in 0.08 seconds\n",
      "Thread count was 4 (of 4 available processors)\n",
      "\n",
      "Solution count 1: 68.3775 \n",
      "\n",
      "Optimal solution found (tolerance 1.00e-04)\n",
      "Best objective 6.837749786793e+01, best bound 6.837749786793e+01, gap 0.0000%\n",
      "\n",
      "User-callback calls 74, time in user-callback 0.02 sec\n",
      "The runtime was 0.10008502006530762 seconds.\n"
     ]
    }
   ],
   "source": [
    "DFJ_Formulation('TSP_instance_n_20_s_1.dat')"
   ]
  },
  {
   "cell_type": "code",
   "execution_count": 13,
   "metadata": {},
   "outputs": [
    {
     "name": "stdout",
     "output_type": "stream",
     "text": [
      "Changed value of parameter lazyConstraints to 1\n",
      "   Prev: 0  Min: 0  Max: 1  Default: 0\n",
      "Changed value of parameter TimeLimit to 600.0\n",
      "   Prev: inf  Min: 0.0  Max: inf  Default: inf\n",
      "Gurobi Optimizer version 9.0.3 build v9.0.3rc0 (mac64)\n",
      "Optimize a model with 20 rows, 380 columns and 380 nonzeros\n",
      "Model fingerprint: 0xd683f8f2\n",
      "Coefficient statistics:\n",
      "  Matrix range     [1e+00, 1e+00]\n",
      "  Objective range  [4e-01, 2e+01]\n",
      "  Bounds range     [1e+00, 1e+00]\n",
      "  RHS range        [2e+00, 2e+00]\n",
      "Presolve time: 0.02s\n",
      "Presolved: 20 rows, 380 columns, 380 nonzeros\n",
      "\n",
      "Iteration    Objective       Primal Inf.    Dual Inf.      Time\n",
      "       0    8.4768870e-01   3.700000e+01   0.000000e+00      0s\n",
      "      29    5.9083047e+01   0.000000e+00   0.000000e+00      0s\n",
      "\n",
      "Solved in 29 iterations and 0.03 seconds\n",
      "Optimal objective  5.908304727e+01\n",
      "\n",
      "User-callback calls 54, time in user-callback 0.00 sec\n",
      "The runtime was 0.03957200050354004 seconds.\n"
     ]
    }
   ],
   "source": [
    "DFJ_Formulation_LR('TSP_instance_n_20_s_1.dat')"
   ]
  },
  {
   "cell_type": "code",
   "execution_count": 14,
   "metadata": {},
   "outputs": [
    {
     "name": "stdout",
     "output_type": "stream",
     "text": [
      "Changed value of parameter lazyConstraints to 1\n",
      "   Prev: 0  Min: 0  Max: 1  Default: 0\n",
      "Changed value of parameter TimeLimit to 600.0\n",
      "   Prev: inf  Min: 0.0  Max: inf  Default: inf\n",
      "Gurobi Optimizer version 9.0.3 build v9.0.3rc0 (mac64)\n",
      "Optimize a model with 20 rows, 380 columns and 380 nonzeros\n",
      "Model fingerprint: 0xd7561c58\n",
      "Variable types: 0 continuous, 380 integer (380 binary)\n",
      "Coefficient statistics:\n",
      "  Matrix range     [1e+00, 1e+00]\n",
      "  Objective range  [6e-01, 2e+01]\n",
      "  Bounds range     [1e+00, 1e+00]\n",
      "  RHS range        [2e+00, 2e+00]\n",
      "Presolve time: 0.00s\n",
      "Presolved: 20 rows, 380 columns, 380 nonzeros\n",
      "Variable types: 0 continuous, 380 integer (380 binary)\n",
      "\n",
      "Root relaxation: objective 6.636115e+01, 27 iterations, 0.00 seconds\n",
      "\n",
      "    Nodes    |    Current Node    |     Objective Bounds      |     Work\n",
      " Expl Unexpl |  Obj  Depth IntInf | Incumbent    BestBd   Gap | It/Node Time\n",
      "\n",
      "     0     0   66.36115    0    6          -   66.36115      -     -    0s\n",
      "     0     0   74.20562    0    8          -   74.20562      -     -    0s\n",
      "*    0     0               0      77.8479492   77.84795  0.00%     -    0s\n",
      "\n",
      "Cutting planes:\n",
      "  Zero half: 4\n",
      "  Lazy constraints: 10\n",
      "\n",
      "Explored 1 nodes (51 simplex iterations) in 0.09 seconds\n",
      "Thread count was 4 (of 4 available processors)\n",
      "\n",
      "Solution count 1: 77.8479 \n",
      "\n",
      "Optimal solution found (tolerance 1.00e-04)\n",
      "Best objective 7.784794916662e+01, best bound 7.784794916662e+01, gap 0.0000%\n",
      "\n",
      "User-callback calls 76, time in user-callback 0.02 sec\n",
      "The runtime was 0.1039881706237793 seconds.\n"
     ]
    }
   ],
   "source": [
    "DFJ_Formulation('TSP_instance_n_20_s_2.dat')"
   ]
  },
  {
   "cell_type": "code",
   "execution_count": 15,
   "metadata": {},
   "outputs": [
    {
     "name": "stdout",
     "output_type": "stream",
     "text": [
      "Changed value of parameter lazyConstraints to 1\n",
      "   Prev: 0  Min: 0  Max: 1  Default: 0\n",
      "Changed value of parameter TimeLimit to 600.0\n",
      "   Prev: inf  Min: 0.0  Max: inf  Default: inf\n",
      "Gurobi Optimizer version 9.0.3 build v9.0.3rc0 (mac64)\n",
      "Optimize a model with 20 rows, 380 columns and 380 nonzeros\n",
      "Model fingerprint: 0x388d7e07\n",
      "Coefficient statistics:\n",
      "  Matrix range     [1e+00, 1e+00]\n",
      "  Objective range  [6e-01, 2e+01]\n",
      "  Bounds range     [1e+00, 1e+00]\n",
      "  RHS range        [2e+00, 2e+00]\n",
      "Presolve time: 0.01s\n",
      "Presolved: 20 rows, 380 columns, 380 nonzeros\n",
      "\n",
      "Iteration    Objective       Primal Inf.    Dual Inf.      Time\n",
      "       0    4.8162658e+00   3.700000e+01   0.000000e+00      0s\n",
      "      27    6.6361148e+01   0.000000e+00   0.000000e+00      0s\n",
      "\n",
      "Solved in 27 iterations and 0.03 seconds\n",
      "Optimal objective  6.636114771e+01\n",
      "\n",
      "User-callback calls 52, time in user-callback 0.00 sec\n",
      "The runtime was 0.041040897369384766 seconds.\n"
     ]
    }
   ],
   "source": [
    "DFJ_Formulation_LR('TSP_instance_n_20_s_2.dat')"
   ]
  },
  {
   "cell_type": "markdown",
   "metadata": {},
   "source": [
    "The following are the DFJ formulation integer and Linear Relaxation solutions for two instances of size 25."
   ]
  },
  {
   "cell_type": "code",
   "execution_count": 16,
   "metadata": {},
   "outputs": [
    {
     "name": "stdout",
     "output_type": "stream",
     "text": [
      "Changed value of parameter lazyConstraints to 1\n",
      "   Prev: 0  Min: 0  Max: 1  Default: 0\n",
      "Changed value of parameter TimeLimit to 600.0\n",
      "   Prev: inf  Min: 0.0  Max: inf  Default: inf\n",
      "Gurobi Optimizer version 9.0.3 build v9.0.3rc0 (mac64)\n",
      "Optimize a model with 25 rows, 600 columns and 600 nonzeros\n",
      "Model fingerprint: 0xade7cb19\n",
      "Variable types: 0 continuous, 600 integer (600 binary)\n",
      "Coefficient statistics:\n",
      "  Matrix range     [1e+00, 1e+00]\n",
      "  Objective range  [4e-01, 2e+01]\n",
      "  Bounds range     [1e+00, 1e+00]\n",
      "  RHS range        [2e+00, 2e+00]\n",
      "Found heuristic solution: objective 207.5491997\n",
      "Presolve time: 0.00s\n",
      "Presolved: 25 rows, 600 columns, 600 nonzeros\n",
      "Variable types: 0 continuous, 600 integer (600 binary)\n",
      "\n",
      "Root relaxation: objective 7.336774e+01, 46 iterations, 0.00 seconds\n",
      "\n",
      "    Nodes    |    Current Node    |     Objective Bounds      |     Work\n",
      " Expl Unexpl |  Obj  Depth IntInf | Incumbent    BestBd   Gap | It/Node Time\n",
      "\n",
      "     0     0   73.36774    0    6  207.54920   73.36774  64.7%     -    0s\n",
      "     0     0   73.46081    0    6  207.54920   73.46081  64.6%     -    0s\n",
      "     0     0   78.56917    0    6  207.54920   78.56917  62.1%     -    0s\n",
      "H    0     0                      86.1600623   78.56917  8.81%     -    0s\n",
      "H    0     0                      84.6485881   78.56917  7.18%     -    0s\n",
      "*    0     0               0      79.4873000   79.48730  0.00%     -    0s\n",
      "\n",
      "Cutting planes:\n",
      "  Zero half: 5\n",
      "  Lazy constraints: 11\n",
      "\n",
      "Explored 1 nodes (66 simplex iterations) in 0.14 seconds\n",
      "Thread count was 4 (of 4 available processors)\n",
      "\n",
      "Solution count 4: 79.4873 84.6486 86.1601 207.549 \n",
      "\n",
      "Optimal solution found (tolerance 1.00e-04)\n",
      "Best objective 7.948729998359e+01, best bound 7.948729998359e+01, gap 0.0000%\n",
      "\n",
      "User-callback calls 113, time in user-callback 0.03 sec\n",
      "The runtime was 0.15792608261108398 seconds.\n"
     ]
    }
   ],
   "source": [
    "DFJ_Formulation('TSP_instance_n_25_s_1.dat')"
   ]
  },
  {
   "cell_type": "code",
   "execution_count": 17,
   "metadata": {},
   "outputs": [
    {
     "name": "stdout",
     "output_type": "stream",
     "text": [
      "Changed value of parameter lazyConstraints to 1\n",
      "   Prev: 0  Min: 0  Max: 1  Default: 0\n",
      "Changed value of parameter TimeLimit to 600.0\n",
      "   Prev: inf  Min: 0.0  Max: inf  Default: inf\n",
      "Gurobi Optimizer version 9.0.3 build v9.0.3rc0 (mac64)\n",
      "Optimize a model with 25 rows, 600 columns and 600 nonzeros\n",
      "Model fingerprint: 0x69190a1a\n",
      "Coefficient statistics:\n",
      "  Matrix range     [1e+00, 1e+00]\n",
      "  Objective range  [4e-01, 2e+01]\n",
      "  Bounds range     [1e+00, 1e+00]\n",
      "  RHS range        [2e+00, 2e+00]\n",
      "Presolve time: 0.02s\n",
      "Presolved: 25 rows, 600 columns, 600 nonzeros\n",
      "\n",
      "Iteration    Objective       Primal Inf.    Dual Inf.      Time\n",
      "       0    8.4768870e-01   4.700000e+01   0.000000e+00      0s\n",
      "      37    7.3367739e+01   0.000000e+00   0.000000e+00      0s\n",
      "\n",
      "Solved in 37 iterations and 0.04 seconds\n",
      "Optimal objective  7.336773856e+01\n",
      "\n",
      "User-callback calls 61, time in user-callback 0.00 sec\n",
      "The runtime was 0.0563509464263916 seconds.\n"
     ]
    }
   ],
   "source": [
    "DFJ_Formulation_LR('TSP_instance_n_25_s_1.dat')"
   ]
  },
  {
   "cell_type": "code",
   "execution_count": 18,
   "metadata": {},
   "outputs": [
    {
     "name": "stdout",
     "output_type": "stream",
     "text": [
      "Changed value of parameter lazyConstraints to 1\n",
      "   Prev: 0  Min: 0  Max: 1  Default: 0\n",
      "Changed value of parameter TimeLimit to 600.0\n",
      "   Prev: inf  Min: 0.0  Max: inf  Default: inf\n",
      "Gurobi Optimizer version 9.0.3 build v9.0.3rc0 (mac64)\n",
      "Optimize a model with 25 rows, 600 columns and 600 nonzeros\n",
      "Model fingerprint: 0x188daa70\n",
      "Variable types: 0 continuous, 600 integer (600 binary)\n",
      "Coefficient statistics:\n",
      "  Matrix range     [1e+00, 1e+00]\n",
      "  Objective range  [3e-01, 2e+01]\n",
      "  Bounds range     [1e+00, 1e+00]\n",
      "  RHS range        [2e+00, 2e+00]\n",
      "Found heuristic solution: objective 282.7364170\n",
      "Presolve time: 0.00s\n",
      "Presolved: 25 rows, 600 columns, 600 nonzeros\n",
      "Variable types: 0 continuous, 600 integer (600 binary)\n",
      "\n",
      "Root relaxation: objective 7.531660e+01, 34 iterations, 0.00 seconds\n",
      "\n",
      "    Nodes    |    Current Node    |     Objective Bounds      |     Work\n",
      " Expl Unexpl |  Obj  Depth IntInf | Incumbent    BestBd   Gap | It/Node Time\n",
      "\n",
      "     0     0   76.46829    0    6  282.73642   76.46829  73.0%     -    0s\n",
      "     0     0   82.58027    0   10  282.73642   82.58027  70.8%     -    0s\n",
      "H    0     0                      84.9370420   82.58027  2.77%     -    0s\n",
      "     0     0   82.68362    0   10   84.93704   82.68362  2.65%     -    0s\n",
      "     0     0   82.68362    0   10   84.93704   82.68362  2.65%     -    0s\n",
      "*    0     0               0      83.0863781   83.08638  0.00%     -    0s\n",
      "\n",
      "Cutting planes:\n",
      "  Gomory: 1\n",
      "  Zero half: 1\n",
      "\n",
      "Explored 1 nodes (100 simplex iterations) in 0.13 seconds\n",
      "Thread count was 4 (of 4 available processors)\n",
      "\n",
      "Solution count 3: 83.0864 84.937 282.736 \n",
      "\n",
      "Optimal solution found (tolerance 1.00e-04)\n",
      "Best objective 8.308637810270e+01, best bound 8.308637810270e+01, gap 0.0000%\n",
      "\n",
      "User-callback calls 120, time in user-callback 0.04 sec\n",
      "The runtime was 0.15810894966125488 seconds.\n"
     ]
    }
   ],
   "source": [
    "DFJ_Formulation('TSP_instance_n_25_s_2.dat')"
   ]
  },
  {
   "cell_type": "code",
   "execution_count": 19,
   "metadata": {},
   "outputs": [
    {
     "name": "stdout",
     "output_type": "stream",
     "text": [
      "Changed value of parameter lazyConstraints to 1\n",
      "   Prev: 0  Min: 0  Max: 1  Default: 0\n",
      "Changed value of parameter TimeLimit to 600.0\n",
      "   Prev: inf  Min: 0.0  Max: inf  Default: inf\n",
      "Gurobi Optimizer version 9.0.3 build v9.0.3rc0 (mac64)\n",
      "Optimize a model with 25 rows, 600 columns and 600 nonzeros\n",
      "Model fingerprint: 0x87661d29\n",
      "Coefficient statistics:\n",
      "  Matrix range     [1e+00, 1e+00]\n",
      "  Objective range  [3e-01, 2e+01]\n",
      "  Bounds range     [1e+00, 1e+00]\n",
      "  RHS range        [2e+00, 2e+00]\n",
      "Presolve time: 0.01s\n",
      "Presolved: 25 rows, 600 columns, 600 nonzeros\n",
      "\n",
      "Iteration    Objective       Primal Inf.    Dual Inf.      Time\n",
      "       0    4.8162658e+00   4.700000e+01   0.000000e+00      0s\n",
      "      35    7.5316602e+01   0.000000e+00   0.000000e+00      0s\n",
      "\n",
      "Solved in 35 iterations and 0.02 seconds\n",
      "Optimal objective  7.531660163e+01\n",
      "\n",
      "User-callback calls 60, time in user-callback 0.00 sec\n",
      "The runtime was 0.03578495979309082 seconds.\n"
     ]
    }
   ],
   "source": [
    "DFJ_Formulation_LR('TSP_instance_n_25_s_2.dat')"
   ]
  },
  {
   "cell_type": "markdown",
   "metadata": {},
   "source": [
    "The following are the DFJ formulation integer and Linear Relaxation solutions for two instances of size 30."
   ]
  },
  {
   "cell_type": "code",
   "execution_count": 20,
   "metadata": {},
   "outputs": [
    {
     "name": "stdout",
     "output_type": "stream",
     "text": [
      "Changed value of parameter lazyConstraints to 1\n",
      "   Prev: 0  Min: 0  Max: 1  Default: 0\n",
      "Changed value of parameter TimeLimit to 600.0\n",
      "   Prev: inf  Min: 0.0  Max: inf  Default: inf\n",
      "Gurobi Optimizer version 9.0.3 build v9.0.3rc0 (mac64)\n",
      "Optimize a model with 30 rows, 870 columns and 870 nonzeros\n",
      "Model fingerprint: 0x041ab82c\n",
      "Variable types: 0 continuous, 870 integer (870 binary)\n",
      "Coefficient statistics:\n",
      "  Matrix range     [1e+00, 1e+00]\n",
      "  Objective range  [4e-01, 2e+01]\n",
      "  Bounds range     [1e+00, 1e+00]\n",
      "  RHS range        [2e+00, 2e+00]\n",
      "Presolve time: 0.00s\n",
      "Presolved: 30 rows, 870 columns, 870 nonzeros\n",
      "Variable types: 0 continuous, 870 integer (870 binary)\n",
      "\n",
      "Root relaxation: objective 8.482838e+01, 51 iterations, 0.00 seconds\n",
      "\n",
      "    Nodes    |    Current Node    |     Objective Bounds      |     Work\n",
      " Expl Unexpl |  Obj  Depth IntInf | Incumbent    BestBd   Gap | It/Node Time\n",
      "\n",
      "     0     0   84.82838    0    6          -   84.82838      -     -    0s\n",
      "     0     0   86.91465    0    6          -   86.91465      -     -    0s\n",
      "     0     0   88.40057    0    6          -   88.40057      -     -    0s\n",
      "H    0     0                      90.3578425   88.40057  2.17%     -    0s\n",
      "     0     0   89.00825    0    8   90.35784   89.00825  1.49%     -    0s\n",
      "     0     0   89.00825    0    8   90.35784   89.00825  1.49%     -    0s\n",
      "     0     0   89.14058    0   16   90.35784   89.14058  1.35%     -    0s\n",
      "*    0     0               0      89.6231512   89.62315  0.00%     -    0s\n",
      "\n",
      "Cutting planes:\n",
      "  Gomory: 4\n",
      "  Zero half: 3\n",
      "  Lazy constraints: 2\n",
      "\n",
      "Explored 1 nodes (141 simplex iterations) in 0.17 seconds\n",
      "Thread count was 4 (of 4 available processors)\n",
      "\n",
      "Solution count 2: 89.6232 90.3578 \n",
      "\n",
      "Optimal solution found (tolerance 1.00e-04)\n",
      "Best objective 8.962315118704e+01, best bound 8.962315118704e+01, gap 0.0000%\n",
      "\n",
      "User-callback calls 136, time in user-callback 0.05 sec\n",
      "The runtime was 0.18955302238464355 seconds.\n"
     ]
    }
   ],
   "source": [
    "DFJ_Formulation('TSP_instance_n_30_s_1.dat')"
   ]
  },
  {
   "cell_type": "code",
   "execution_count": 21,
   "metadata": {},
   "outputs": [
    {
     "name": "stdout",
     "output_type": "stream",
     "text": [
      "Changed value of parameter lazyConstraints to 1\n",
      "   Prev: 0  Min: 0  Max: 1  Default: 0\n",
      "Changed value of parameter TimeLimit to 600.0\n",
      "   Prev: inf  Min: 0.0  Max: inf  Default: inf\n",
      "Gurobi Optimizer version 9.0.3 build v9.0.3rc0 (mac64)\n",
      "Optimize a model with 30 rows, 870 columns and 870 nonzeros\n",
      "Model fingerprint: 0xeaeccd5e\n",
      "Coefficient statistics:\n",
      "  Matrix range     [1e+00, 1e+00]\n",
      "  Objective range  [4e-01, 2e+01]\n",
      "  Bounds range     [1e+00, 1e+00]\n",
      "  RHS range        [2e+00, 2e+00]\n",
      "Presolve time: 0.02s\n",
      "Presolved: 30 rows, 870 columns, 870 nonzeros\n",
      "\n",
      "Iteration    Objective       Primal Inf.    Dual Inf.      Time\n",
      "       0    8.4768870e-01   5.700000e+01   0.000000e+00      0s\n",
      "      52    8.4828381e+01   0.000000e+00   0.000000e+00      0s\n",
      "\n",
      "Solved in 52 iterations and 0.03 seconds\n",
      "Optimal objective  8.482838102e+01\n",
      "\n",
      "User-callback calls 77, time in user-callback 0.00 sec\n",
      "The runtime was 0.039537906646728516 seconds.\n"
     ]
    }
   ],
   "source": [
    "DFJ_Formulation_LR('TSP_instance_n_30_s_1.dat')"
   ]
  },
  {
   "cell_type": "code",
   "execution_count": 22,
   "metadata": {},
   "outputs": [
    {
     "name": "stdout",
     "output_type": "stream",
     "text": [
      "Changed value of parameter lazyConstraints to 1\n",
      "   Prev: 0  Min: 0  Max: 1  Default: 0\n",
      "Changed value of parameter TimeLimit to 600.0\n",
      "   Prev: inf  Min: 0.0  Max: inf  Default: inf\n",
      "Gurobi Optimizer version 9.0.3 build v9.0.3rc0 (mac64)\n",
      "Optimize a model with 30 rows, 870 columns and 870 nonzeros\n",
      "Model fingerprint: 0x59dfac2f\n",
      "Variable types: 0 continuous, 870 integer (870 binary)\n",
      "Coefficient statistics:\n",
      "  Matrix range     [1e+00, 1e+00]\n",
      "  Objective range  [3e-01, 2e+01]\n",
      "  Bounds range     [1e+00, 1e+00]\n",
      "  RHS range        [2e+00, 2e+00]\n",
      "Presolve time: 0.00s\n",
      "Presolved: 30 rows, 870 columns, 870 nonzeros\n",
      "Variable types: 0 continuous, 870 integer (870 binary)\n",
      "\n",
      "Root relaxation: objective 8.179642e+01, 50 iterations, 0.00 seconds\n",
      "\n",
      "    Nodes    |    Current Node    |     Objective Bounds      |     Work\n",
      " Expl Unexpl |  Obj  Depth IntInf | Incumbent    BestBd   Gap | It/Node Time\n",
      "\n",
      "     0     0   81.79642    0    6          -   81.79642      -     -    0s\n",
      "     0     0   86.43678    0    8          -   86.43678      -     -    0s\n",
      "     0     0   87.28098    0   10          -   87.28098      -     -    0s\n",
      "*    0     0               0      88.6072162   88.60722  0.00%     -    0s\n",
      "\n",
      "Cutting planes:\n",
      "  Zero half: 6\n",
      "  Lazy constraints: 15\n",
      "\n",
      "Explored 1 nodes (81 simplex iterations) in 0.13 seconds\n",
      "Thread count was 4 (of 4 available processors)\n",
      "\n",
      "Solution count 1: 88.6072 \n",
      "\n",
      "Optimal solution found (tolerance 1.00e-04)\n",
      "Best objective 8.860721616345e+01, best bound 8.860721616345e+01, gap 0.0000%\n",
      "\n",
      "User-callback calls 108, time in user-callback 0.04 sec\n",
      "The runtime was 0.14845609664916992 seconds.\n"
     ]
    }
   ],
   "source": [
    "DFJ_Formulation('TSP_instance_n_30_s_2.dat')"
   ]
  },
  {
   "cell_type": "code",
   "execution_count": 23,
   "metadata": {},
   "outputs": [
    {
     "name": "stdout",
     "output_type": "stream",
     "text": [
      "Changed value of parameter lazyConstraints to 1\n",
      "   Prev: 0  Min: 0  Max: 1  Default: 0\n",
      "Changed value of parameter TimeLimit to 600.0\n",
      "   Prev: inf  Min: 0.0  Max: inf  Default: inf\n",
      "Gurobi Optimizer version 9.0.3 build v9.0.3rc0 (mac64)\n",
      "Optimize a model with 30 rows, 870 columns and 870 nonzeros\n",
      "Model fingerprint: 0xd8ddf4ac\n",
      "Coefficient statistics:\n",
      "  Matrix range     [1e+00, 1e+00]\n",
      "  Objective range  [3e-01, 2e+01]\n",
      "  Bounds range     [1e+00, 1e+00]\n",
      "  RHS range        [2e+00, 2e+00]\n",
      "Presolve time: 0.01s\n",
      "Presolved: 30 rows, 870 columns, 870 nonzeros\n",
      "\n",
      "Iteration    Objective       Primal Inf.    Dual Inf.      Time\n",
      "       0    4.8162658e+00   5.700000e+01   0.000000e+00      0s\n",
      "      41    8.1216436e+01   0.000000e+00   0.000000e+00      0s\n",
      "\n",
      "Solved in 41 iterations and 0.03 seconds\n",
      "Optimal objective  8.121643613e+01\n",
      "\n",
      "User-callback calls 66, time in user-callback 0.00 sec\n",
      "The runtime was 0.03857898712158203 seconds.\n"
     ]
    }
   ],
   "source": [
    "DFJ_Formulation_LR('TSP_instance_n_30_s_2.dat')"
   ]
  },
  {
   "cell_type": "markdown",
   "metadata": {},
   "source": [
    "The following are the DFJ formulation integer and Linear Relaxation solutions for two instances of size 50."
   ]
  },
  {
   "cell_type": "code",
   "execution_count": 24,
   "metadata": {},
   "outputs": [
    {
     "name": "stdout",
     "output_type": "stream",
     "text": [
      "Changed value of parameter lazyConstraints to 1\n",
      "   Prev: 0  Min: 0  Max: 1  Default: 0\n",
      "Changed value of parameter TimeLimit to 600.0\n",
      "   Prev: inf  Min: 0.0  Max: inf  Default: inf\n",
      "Gurobi Optimizer version 9.0.3 build v9.0.3rc0 (mac64)\n",
      "Optimize a model with 50 rows, 2450 columns and 2450 nonzeros\n",
      "Model fingerprint: 0x2dc40f18\n",
      "Variable types: 0 continuous, 2450 integer (2450 binary)\n",
      "Coefficient statistics:\n",
      "  Matrix range     [1e+00, 1e+00]\n",
      "  Objective range  [4e-01, 2e+01]\n",
      "  Bounds range     [1e+00, 1e+00]\n",
      "  RHS range        [2e+00, 2e+00]\n",
      "Found heuristic solution: objective 506.4764282\n",
      "Presolve time: 0.01s\n",
      "Presolved: 50 rows, 2450 columns, 2450 nonzeros\n",
      "Variable types: 0 continuous, 2450 integer (2450 binary)\n",
      "\n",
      "Root relaxation: objective 1.067319e+02, 76 iterations, 0.00 seconds\n",
      "\n",
      "    Nodes    |    Current Node    |     Objective Bounds      |     Work\n",
      " Expl Unexpl |  Obj  Depth IntInf | Incumbent    BestBd   Gap | It/Node Time\n",
      "\n",
      "     0     0  106.73195    0   20  506.47643  106.73195  78.9%     -    0s\n",
      "     0     0  111.84730    0   16  506.47643  111.84730  77.9%     -    0s\n",
      "     0     0  112.85519    0   18  506.47643  112.85519  77.7%     -    0s\n",
      "     0     0  113.10464    0   26  506.47643  113.10464  77.7%     -    0s\n",
      "     0     0  113.10464    0   26  506.47643  113.10464  77.7%     -    0s\n",
      "H    0     0                     115.2780971  113.10464  1.89%     -    0s\n",
      "     0     0  113.24357    0   12  115.27810  113.24357  1.76%     -    0s\n",
      "     0     0  113.69201    0   20  115.27810  113.69201  1.38%     -    0s\n",
      "     0     0  113.71767    0   20  115.27810  113.71767  1.35%     -    0s\n",
      "     0     0  113.80650    0   29  115.27810  113.80650  1.28%     -    0s\n",
      "     0     0  113.83988    0   26  115.27810  113.83988  1.25%     -    0s\n",
      "     0     0  114.00165    0   25  115.27810  114.00165  1.11%     -    0s\n",
      "     0     0  114.00165    0   12  115.27810  114.00165  1.11%     -    0s\n",
      "     0     0  114.00165    0   26  115.27810  114.00165  1.11%     -    0s\n",
      "     0     0  114.00165    0    8  115.27810  114.00165  1.11%     -    0s\n",
      "     0     0  114.04165    0   37  115.27810  114.04165  1.07%     -    0s\n",
      "     0     0  114.04165    0   37  115.27810  114.04165  1.07%     -    0s\n",
      "H    0     0                     114.9405218  114.04165  0.78%     -    0s\n",
      "H    0     0                     114.1877216  114.04165  0.13%     -    0s\n",
      "\n",
      "Cutting planes:\n",
      "  Gomory: 6\n",
      "  MIR: 2\n",
      "  Zero half: 12\n",
      "\n",
      "Explored 1 nodes (384 simplex iterations) in 0.48 seconds\n",
      "Thread count was 4 (of 4 available processors)\n",
      "\n",
      "Solution count 4: 114.188 114.941 115.278 506.476 \n",
      "\n",
      "Optimal solution found (tolerance 1.00e-04)\n",
      "Best objective 1.141877216252e+02, best bound 1.141877216252e+02, gap 0.0000%\n",
      "\n",
      "User-callback calls 350, time in user-callback 0.12 sec\n",
      "The runtime was 0.510695219039917 seconds.\n"
     ]
    }
   ],
   "source": [
    "DFJ_Formulation('TSP_instance_n_50_s_1.dat')"
   ]
  },
  {
   "cell_type": "code",
   "execution_count": 25,
   "metadata": {},
   "outputs": [
    {
     "name": "stdout",
     "output_type": "stream",
     "text": [
      "Changed value of parameter lazyConstraints to 1\n",
      "   Prev: 0  Min: 0  Max: 1  Default: 0\n",
      "Changed value of parameter TimeLimit to 600.0\n",
      "   Prev: inf  Min: 0.0  Max: inf  Default: inf\n",
      "Gurobi Optimizer version 9.0.3 build v9.0.3rc0 (mac64)\n",
      "Optimize a model with 50 rows, 2450 columns and 2450 nonzeros\n",
      "Model fingerprint: 0x9c3c726e\n",
      "Coefficient statistics:\n",
      "  Matrix range     [1e+00, 1e+00]\n",
      "  Objective range  [4e-01, 2e+01]\n",
      "  Bounds range     [1e+00, 1e+00]\n",
      "  RHS range        [2e+00, 2e+00]\n",
      "Presolve time: 0.01s\n",
      "Presolved: 50 rows, 2450 columns, 2450 nonzeros\n",
      "\n",
      "Iteration    Objective       Primal Inf.    Dual Inf.      Time\n",
      "       0    8.4768870e-01   9.700000e+01   0.000000e+00      0s\n",
      "      83    1.0673195e+02   0.000000e+00   0.000000e+00      0s\n",
      "\n",
      "Solved in 83 iterations and 0.03 seconds\n",
      "Optimal objective  1.067319456e+02\n",
      "\n",
      "User-callback calls 108, time in user-callback 0.00 sec\n",
      "The runtime was 0.039759159088134766 seconds.\n"
     ]
    }
   ],
   "source": [
    "DFJ_Formulation_LR('TSP_instance_n_50_s_1.dat')"
   ]
  },
  {
   "cell_type": "code",
   "execution_count": 26,
   "metadata": {},
   "outputs": [
    {
     "name": "stdout",
     "output_type": "stream",
     "text": [
      "Changed value of parameter lazyConstraints to 1\n",
      "   Prev: 0  Min: 0  Max: 1  Default: 0\n",
      "Changed value of parameter TimeLimit to 600.0\n",
      "   Prev: inf  Min: 0.0  Max: inf  Default: inf\n",
      "Gurobi Optimizer version 9.0.3 build v9.0.3rc0 (mac64)\n",
      "Optimize a model with 50 rows, 2450 columns and 2450 nonzeros\n",
      "Model fingerprint: 0xef43f43d\n",
      "Variable types: 0 continuous, 2450 integer (2450 binary)\n",
      "Coefficient statistics:\n",
      "  Matrix range     [1e+00, 1e+00]\n",
      "  Objective range  [2e-01, 2e+01]\n",
      "  Bounds range     [1e+00, 1e+00]\n",
      "  RHS range        [2e+00, 2e+00]\n",
      "Found heuristic solution: objective 559.1768340\n",
      "Presolve time: 0.00s\n",
      "Presolved: 50 rows, 2450 columns, 2450 nonzeros\n",
      "Variable types: 0 continuous, 2450 integer (2450 binary)\n",
      "\n",
      "Root relaxation: objective 9.331014e+01, 61 iterations, 0.00 seconds\n",
      "\n",
      "    Nodes    |    Current Node    |     Objective Bounds      |     Work\n",
      " Expl Unexpl |  Obj  Depth IntInf | Incumbent    BestBd   Gap | It/Node Time\n",
      "\n",
      "     0     0   98.62893    0    8  559.17683   98.62893  82.4%     -    0s\n",
      "     0     0  100.51087    0   13  559.17683  100.51087  82.0%     -    0s\n",
      "     0     0  101.08367    0    6  559.17683  101.08367  81.9%     -    0s\n",
      "     0     0  106.86969    0    6  559.17683  106.86969  80.9%     -    0s\n",
      "H    0     0                     117.6559073  106.86969  9.17%     -    0s\n",
      "     0     0  106.86969    0    6  117.65591  106.86969  9.17%     -    0s\n",
      "H    0     0                     108.1007766  106.86969  1.14%     -    0s\n",
      "     0     0  106.99177    0    6  108.10078  106.99177  1.03%     -    0s\n",
      "     0     0  107.05652    0   16  108.10078  107.05652  0.97%     -    0s\n",
      "     0     0  107.38377    0   30  108.10078  107.38377  0.66%     -    0s\n",
      "     0     0  107.44480    0   29  108.10078  107.44480  0.61%     -    0s\n",
      "H    0     0                     107.9145632  107.44480  0.44%     -    0s\n",
      "     0     0  107.60792    0   24  107.91456  107.60792  0.28%     -    0s\n",
      "     0     0  107.60792    0    4  107.91456  107.60792  0.28%     -    0s\n",
      "*    0     0               0     107.9036250  107.90362  0.00%     -    0s\n",
      "\n",
      "Cutting planes:\n",
      "  Gomory: 4\n",
      "  Clique: 2\n",
      "  Zero half: 5\n",
      "\n",
      "Explored 1 nodes (311 simplex iterations) in 0.42 seconds\n",
      "Thread count was 4 (of 4 available processors)\n",
      "\n",
      "Solution count 5: 107.904 107.915 108.101 ... 559.177\n",
      "\n",
      "Optimal solution found (tolerance 1.00e-04)\n",
      "Best objective 1.079036249844e+02, best bound 1.079036249844e+02, gap 0.0000%\n",
      "\n",
      "User-callback calls 306, time in user-callback 0.13 sec\n",
      "The runtime was 0.44528985023498535 seconds.\n"
     ]
    }
   ],
   "source": [
    "DFJ_Formulation('TSP_instance_n_50_s_2.dat')"
   ]
  },
  {
   "cell_type": "code",
   "execution_count": 27,
   "metadata": {},
   "outputs": [
    {
     "name": "stdout",
     "output_type": "stream",
     "text": [
      "Changed value of parameter lazyConstraints to 1\n",
      "   Prev: 0  Min: 0  Max: 1  Default: 0\n",
      "Changed value of parameter TimeLimit to 600.0\n",
      "   Prev: inf  Min: 0.0  Max: inf  Default: inf\n",
      "Gurobi Optimizer version 9.0.3 build v9.0.3rc0 (mac64)\n",
      "Optimize a model with 50 rows, 2450 columns and 2450 nonzeros\n",
      "Model fingerprint: 0xce795a9c\n",
      "Coefficient statistics:\n",
      "  Matrix range     [1e+00, 1e+00]\n",
      "  Objective range  [2e-01, 2e+01]\n",
      "  Bounds range     [1e+00, 1e+00]\n",
      "  RHS range        [2e+00, 2e+00]\n",
      "Presolve time: 0.01s\n",
      "Presolved: 50 rows, 2450 columns, 2450 nonzeros\n",
      "\n",
      "Iteration    Objective       Primal Inf.    Dual Inf.      Time\n",
      "       0    8.7459361e-01   9.700000e+01   0.000000e+00      0s\n",
      "      60    9.3310137e+01   0.000000e+00   0.000000e+00      0s\n",
      "\n",
      "Solved in 60 iterations and 0.03 seconds\n",
      "Optimal objective  9.331013666e+01\n",
      "\n",
      "User-callback calls 85, time in user-callback 0.00 sec\n",
      "The runtime was 0.037866830825805664 seconds.\n"
     ]
    }
   ],
   "source": [
    "DFJ_Formulation_LR('TSP_instance_n_50_s_2.dat')"
   ]
  },
  {
   "cell_type": "markdown",
   "metadata": {},
   "source": [
    "The following are the DFJ formulation integer and Linear Relaxation solutions for two instances of size 70."
   ]
  },
  {
   "cell_type": "code",
   "execution_count": 28,
   "metadata": {},
   "outputs": [
    {
     "name": "stdout",
     "output_type": "stream",
     "text": [
      "Changed value of parameter lazyConstraints to 1\n",
      "   Prev: 0  Min: 0  Max: 1  Default: 0\n",
      "Changed value of parameter TimeLimit to 600.0\n",
      "   Prev: inf  Min: 0.0  Max: inf  Default: inf\n",
      "Gurobi Optimizer version 9.0.3 build v9.0.3rc0 (mac64)\n",
      "Optimize a model with 70 rows, 4830 columns and 4830 nonzeros\n",
      "Model fingerprint: 0x914775bc\n",
      "Variable types: 0 continuous, 4830 integer (4830 binary)\n",
      "Coefficient statistics:\n",
      "  Matrix range     [1e+00, 1e+00]\n",
      "  Objective range  [4e-01, 2e+01]\n",
      "  Bounds range     [1e+00, 1e+00]\n",
      "  RHS range        [2e+00, 2e+00]\n",
      "Presolve time: 0.01s\n",
      "Presolved: 70 rows, 4830 columns, 4830 nonzeros\n",
      "Variable types: 0 continuous, 4830 integer (4830 binary)\n",
      "\n",
      "Root relaxation: objective 1.260454e+02, 114 iterations, 0.00 seconds\n",
      "\n",
      "    Nodes    |    Current Node    |     Objective Bounds      |     Work\n",
      " Expl Unexpl |  Obj  Depth IntInf | Incumbent    BestBd   Gap | It/Node Time\n",
      "\n",
      "     0     0  126.04543    0   20          -  126.04543      -     -    0s\n",
      "     0     0  128.69202    0   16          -  128.69202      -     -    0s\n",
      "     0     0  128.96134    0    8          -  128.96134      -     -    0s\n",
      "     0     0  129.09862    0   18          -  129.09862      -     -    0s\n",
      "     0     0  129.13376    0   10          -  129.13376      -     -    0s\n",
      "     0     0  129.13376    0   10          -  129.13376      -     -    0s\n",
      "     0     2  130.28806    0   27          -  130.28806      -     -    0s\n",
      "*   55    58              22     132.3407602  130.34816  1.51%   3.1    0s\n",
      "*  111    69              13     131.5312313  130.76910  0.58%   3.9    0s\n",
      "*  126    64              12     131.3224982  130.77833  0.41%   4.0    0s\n",
      "\n",
      "Cutting planes:\n",
      "  MIR: 2\n",
      "  Zero half: 11\n",
      "  Lazy constraints: 20\n",
      "\n",
      "Explored 167 nodes (824 simplex iterations) in 0.60 seconds\n",
      "Thread count was 4 (of 4 available processors)\n",
      "\n",
      "Solution count 3: 131.322 131.531 132.341 \n",
      "\n",
      "Optimal solution found (tolerance 1.00e-04)\n",
      "Best objective 1.313224981523e+02, best bound 1.313224981523e+02, gap 0.0000%\n",
      "\n",
      "User-callback calls 626, time in user-callback 0.16 sec\n",
      "The runtime was 0.6322410106658936 seconds.\n"
     ]
    }
   ],
   "source": [
    "DFJ_Formulation('TSP_instance_n_70_s_1.dat')"
   ]
  },
  {
   "cell_type": "code",
   "execution_count": 29,
   "metadata": {},
   "outputs": [
    {
     "name": "stdout",
     "output_type": "stream",
     "text": [
      "Changed value of parameter lazyConstraints to 1\n",
      "   Prev: 0  Min: 0  Max: 1  Default: 0\n",
      "Changed value of parameter TimeLimit to 600.0\n",
      "   Prev: inf  Min: 0.0  Max: inf  Default: inf\n",
      "Gurobi Optimizer version 9.0.3 build v9.0.3rc0 (mac64)\n",
      "Optimize a model with 70 rows, 4830 columns and 4830 nonzeros\n",
      "Model fingerprint: 0x7c9d5658\n",
      "Coefficient statistics:\n",
      "  Matrix range     [1e+00, 1e+00]\n",
      "  Objective range  [4e-01, 2e+01]\n",
      "  Bounds range     [1e+00, 1e+00]\n",
      "  RHS range        [2e+00, 2e+00]\n",
      "Presolve time: 0.02s\n",
      "Presolved: 70 rows, 4830 columns, 4830 nonzeros\n",
      "\n",
      "Iteration    Objective       Primal Inf.    Dual Inf.      Time\n",
      "       0    8.4768870e-01   1.370000e+02   0.000000e+00      0s\n",
      "     105    1.2604543e+02   0.000000e+00   0.000000e+00      0s\n",
      "\n",
      "Solved in 105 iterations and 0.03 seconds\n",
      "Optimal objective  1.260454294e+02\n",
      "\n",
      "User-callback calls 130, time in user-callback 0.00 sec\n",
      "The runtime was 0.04131913185119629 seconds.\n"
     ]
    }
   ],
   "source": [
    "DFJ_Formulation_LR('TSP_instance_n_70_s_1.dat')"
   ]
  },
  {
   "cell_type": "code",
   "execution_count": 30,
   "metadata": {},
   "outputs": [
    {
     "name": "stdout",
     "output_type": "stream",
     "text": [
      "Changed value of parameter lazyConstraints to 1\n",
      "   Prev: 0  Min: 0  Max: 1  Default: 0\n",
      "Changed value of parameter TimeLimit to 600.0\n",
      "   Prev: inf  Min: 0.0  Max: inf  Default: inf\n",
      "Gurobi Optimizer version 9.0.3 build v9.0.3rc0 (mac64)\n",
      "Optimize a model with 70 rows, 4830 columns and 4830 nonzeros\n",
      "Model fingerprint: 0x1263601d\n",
      "Variable types: 0 continuous, 4830 integer (4830 binary)\n",
      "Coefficient statistics:\n",
      "  Matrix range     [1e+00, 1e+00]\n",
      "  Objective range  [2e-01, 2e+01]\n",
      "  Bounds range     [1e+00, 1e+00]\n",
      "  RHS range        [2e+00, 2e+00]\n",
      "Presolve time: 0.01s\n",
      "Presolved: 70 rows, 4830 columns, 4830 nonzeros\n",
      "Variable types: 0 continuous, 4830 integer (4830 binary)\n",
      "\n",
      "Root relaxation: objective 1.270792e+02, 99 iterations, 0.00 seconds\n",
      "\n",
      "    Nodes    |    Current Node    |     Objective Bounds      |     Work\n",
      " Expl Unexpl |  Obj  Depth IntInf | Incumbent    BestBd   Gap | It/Node Time\n",
      "\n",
      "     0     0  127.07923    0   12          -  127.07923      -     -    0s\n",
      "     0     0  129.04756    0    8          -  129.04756      -     -    0s\n",
      "     0     0  129.35939    0   13          -  129.35939      -     -    0s\n",
      "     0     0  129.46292    0   10          -  129.46292      -     -    0s\n",
      "     0     0  129.46292    0   10          -  129.46292      -     -    0s\n",
      "     0     2  131.27020    0    8          -  131.27020      -     -    0s\n",
      "*   24    28              10     132.0393228  131.35857  0.52%   2.4    0s\n",
      "\n",
      "Cutting planes:\n",
      "  MIR: 1\n",
      "  Inf proof: 4\n",
      "  Zero half: 7\n",
      "  Lazy constraints: 20\n",
      "\n",
      "Explored 79 nodes (296 simplex iterations) in 0.70 seconds\n",
      "Thread count was 4 (of 4 available processors)\n",
      "\n",
      "Solution count 1: 132.039 \n",
      "\n",
      "Optimal solution found (tolerance 1.00e-04)\n",
      "Best objective 1.320393228220e+02, best bound 1.320393228220e+02, gap 0.0000%\n",
      "\n",
      "User-callback calls 551, time in user-callback 0.16 sec\n",
      "The runtime was 0.7195549011230469 seconds.\n"
     ]
    }
   ],
   "source": [
    "DFJ_Formulation('TSP_instance_n_70_s_2.dat')"
   ]
  },
  {
   "cell_type": "code",
   "execution_count": 31,
   "metadata": {},
   "outputs": [
    {
     "name": "stdout",
     "output_type": "stream",
     "text": [
      "Changed value of parameter lazyConstraints to 1\n",
      "   Prev: 0  Min: 0  Max: 1  Default: 0\n",
      "Changed value of parameter TimeLimit to 600.0\n",
      "   Prev: inf  Min: 0.0  Max: inf  Default: inf\n",
      "Gurobi Optimizer version 9.0.3 build v9.0.3rc0 (mac64)\n",
      "Optimize a model with 70 rows, 4830 columns and 4830 nonzeros\n",
      "Model fingerprint: 0xc15d3c43\n",
      "Coefficient statistics:\n",
      "  Matrix range     [1e+00, 1e+00]\n",
      "  Objective range  [2e-01, 2e+01]\n",
      "  Bounds range     [1e+00, 1e+00]\n",
      "  RHS range        [2e+00, 2e+00]\n",
      "Presolve time: 0.02s\n",
      "Presolved: 70 rows, 4830 columns, 4830 nonzeros\n",
      "\n",
      "Iteration    Objective       Primal Inf.    Dual Inf.      Time\n",
      "       0    8.7459361e-01   1.370000e+02   0.000000e+00      0s\n",
      "     101    1.2707923e+02   0.000000e+00   0.000000e+00      0s\n",
      "\n",
      "Solved in 101 iterations and 0.05 seconds\n",
      "Optimal objective  1.270792343e+02\n",
      "\n",
      "User-callback calls 126, time in user-callback 0.00 sec\n",
      "The runtime was 0.05652308464050293 seconds.\n"
     ]
    }
   ],
   "source": [
    "DFJ_Formulation_LR('TSP_instance_n_70_s_2.dat')"
   ]
  },
  {
   "cell_type": "code",
   "execution_count": null,
   "metadata": {},
   "outputs": [],
   "source": []
  }
 ],
 "metadata": {
  "kernelspec": {
   "display_name": "Python 3",
   "language": "python",
   "name": "python3"
  },
  "language_info": {
   "codemirror_mode": {
    "name": "ipython",
    "version": 3
   },
   "file_extension": ".py",
   "mimetype": "text/x-python",
   "name": "python",
   "nbconvert_exporter": "python",
   "pygments_lexer": "ipython3",
   "version": "3.7.6"
  }
 },
 "nbformat": 4,
 "nbformat_minor": 4
}
